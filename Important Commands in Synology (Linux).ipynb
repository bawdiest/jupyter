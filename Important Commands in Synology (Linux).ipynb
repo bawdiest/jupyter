{
 "cells": [
  {
   "cell_type": "markdown",
   "metadata": {
    "deletable": true,
    "editable": true
   },
   "source": [
    "Access Debian chroot on Synology\n",
    "\n",
    "```bash\n",
    "sudo /var/packages/debian-chroot/scripts/start-stop-status chroot\n",
    "```\n"
   ]
  },
  {
   "cell_type": "markdown",
   "metadata": {
    "deletable": true,
    "editable": true
   },
   "source": [
    "Access Synology On Port 422\n",
    "\n",
    "```bash\n",
    "ssh admin@<server> -p 422\n",
    "```"
   ]
  },
  {
   "cell_type": "markdown",
   "metadata": {
    "deletable": true,
    "editable": true
   },
   "source": [
    "Good Tips and Tricks in IPython\n",
    "\n",
    "https://www.dataquest.io/blog/jupyter-notebook-tips-tricks-shortcuts/"
   ]
  },
  {
   "cell_type": "markdown",
   "metadata": {
    "deletable": true,
    "editable": true
   },
   "source": [
    "MardDown Syntax\n",
    "\n",
    "https://github.com/adam-p/markdown-here/wiki/Markdown-Cheatsheet#links"
   ]
  },
  {
   "cell_type": "markdown",
   "metadata": {
    "collapsed": true,
    "deletable": true,
    "editable": true
   },
   "source": [
    "Access Chroot Directory outside from chroot\n",
    "\n",
    "```bash\n",
    "cd /var/packages/debian-chroot/target/var/chroottarget/home\n",
    "```"
   ]
  },
  {
   "cell_type": "markdown",
   "metadata": {
    "deletable": true,
    "editable": true
   },
   "source": [
    "Export Notebook to python script\n",
    "\n",
    "``` bash\n",
    "jupyter nbconvert --to python plant.Watering.GetActualWeatherData.ipynb\n",
    "```\n",
    "\n"
   ]
  },
  {
   "cell_type": "markdown",
   "metadata": {
    "deletable": true,
    "editable": true
   },
   "source": [
    "Start Node-Red with Process Loger on Synology. The server is than available on port 1880\n",
    "```bash\n",
    "pm2 start /usr/local/bin/node-red -- -v\n",
    "```"
   ]
  },
  {
   "cell_type": "markdown",
   "metadata": {
    "collapsed": true,
    "deletable": true,
    "editable": true
   },
   "source": [
    "Get Current Weather from DB\n",
    "```sql\n",
    "SELECT * FROM log_v, (SELECT max(tmstp) as tmstp from log_v) AS t WHERE log_v.tmstp = t.tmstp\n",
    "```"
   ]
  },
  {
   "cell_type": "markdown",
   "metadata": {
    "collapsed": true,
    "deletable": true,
    "editable": true
   },
   "source": [
    "```sql\n",
    "select DATE_SUB(NOW(),INTERVAL 1 DAY) as time \n",
    "```"
   ]
  },
  {
   "cell_type": "markdown",
   "metadata": {
    "collapsed": true,
    "deletable": true,
    "editable": true
   },
   "source": [
    "Synchronize Jupyter Folder with Shared one\n",
    "```bash\n",
    "cp -r /var/packages/debian-chroot/target/var/chroottarget/home/jupyter /volume1/homes/mikhail.makarov/CloudStation/private/myProjects/jupyter\n",
    "```"
   ]
  },
  {
   "cell_type": "code",
   "execution_count": null,
   "metadata": {
    "collapsed": true
   },
   "outputs": [],
   "source": []
  }
 ],
 "metadata": {
  "kernelspec": {
   "display_name": "Python 3",
   "language": "python",
   "name": "python3"
  },
  "language_info": {
   "codemirror_mode": {
    "name": "ipython",
    "version": 3
   },
   "file_extension": ".py",
   "mimetype": "text/x-python",
   "name": "python",
   "nbconvert_exporter": "python",
   "pygments_lexer": "ipython3",
   "version": "3.4.2"
  }
 },
 "nbformat": 4,
 "nbformat_minor": 2
}
