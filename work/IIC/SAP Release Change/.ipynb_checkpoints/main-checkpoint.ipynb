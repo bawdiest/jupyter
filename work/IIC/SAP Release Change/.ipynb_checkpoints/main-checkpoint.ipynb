{
 "cells": [
  {
   "cell_type": "markdown",
   "metadata": {},
   "source": [
    "# SAP Release Change Project\n",
    "\n",
    "## Wichtige Informationen\n",
    "- Sharepoint vom Projekt: https://iicintersport.sharepoint.com/sites/p_saprc/SAP%20Shared%20Documents/Forms/AllItems.aspx?id=%2Fsites%2Fp%5Fsaprc%2FSAP%20Shared%20Documents%2F30%20Explore%2F60%20BI%5FAnalytics\n",
    "- "
   ]
  }
 ],
 "metadata": {
  "kernelspec": {
   "display_name": "Python 3",
   "language": "python",
   "name": "python3"
  },
  "language_info": {
   "codemirror_mode": {
    "name": "ipython",
    "version": 3
   },
   "file_extension": ".py",
   "mimetype": "text/x-python",
   "name": "python",
   "nbconvert_exporter": "python",
   "pygments_lexer": "ipython3",
   "version": "3.5.2"
  }
 },
 "nbformat": 4,
 "nbformat_minor": 2
}
