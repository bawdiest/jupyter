{
 "cells": [
  {
   "cell_type": "markdown",
   "metadata": {
    "deletable": true,
    "editable": true
   },
   "source": [
    "# plant.Watering Logistic Regression"
   ]
  },
  {
   "cell_type": "markdown",
   "metadata": {
    "deletable": true,
    "editable": true
   },
   "source": [
    "## Problem Statement\n",
    "We should say should the water pump stay off, turn on for medium (480s) or should it turn full (960s)"
   ]
  },
  {
   "cell_type": "markdown",
   "metadata": {
    "deletable": true,
    "editable": true
   },
   "source": [
    "## Import all libraries"
   ]
  },
  {
   "cell_type": "code",
   "execution_count": 59,
   "metadata": {
    "collapsed": false,
    "deletable": true,
    "editable": true
   },
   "outputs": [],
   "source": [
    "# Show Plot immedeately\n",
    "%matplotlib inline \n",
    "\n",
    "from scipy import stats\n",
    "import numpy as np\n",
    "from matplotlib import pyplot as plt\n",
    "import pymysql.cursors\n",
    "import pandas as pd\n",
    "from datetime import datetime\n"
   ]
  },
  {
   "cell_type": "markdown",
   "metadata": {
    "deletable": true,
    "editable": true
   },
   "source": [
    "## Import DataSet"
   ]
  },
  {
   "cell_type": "code",
   "execution_count": 60,
   "metadata": {
    "collapsed": false,
    "deletable": true,
    "editable": true,
    "scrolled": false
   },
   "outputs": [],
   "source": [
    "r_DataSet = pd.read_csv(\"plant.Watering.data/DataSet.csv\")"
   ]
  },
  {
   "cell_type": "markdown",
   "metadata": {
    "deletable": true,
    "editable": true
   },
   "source": [
    "## Variables\n",
    "\n",
    "Variable | Description\n",
    "------------- |-------------|\n",
    "Date          |   29 non-null object\n",
    "Value         |   Pump Duration (predicted variable)29 non-null float64\n",
    "Time          |   29 non-null object\n",
    "DateTime_x    |   29 non-null object\n",
    "DateTime_y    |   29 non-null object\n",
    "tre200b0      |   Lufttemperatur 2 m über Boden; Stundenmittel 24h ago °C (tre200b0)\n",
    "ure200b0      |   Relative Luftfeuchtigkeit 2 m über Boden; Stundenmittel 24h ago % (ure200b0)\n",
    "rre150b0      |   Niederschlag; Stundensumme 24h ago mm (rre150b0)\n",
    "sre000b0      |   Sonnenscheindauer; Stundensumme 24h ago min (sre000b0)\n",
    "fu3010b0      |   Windgeschwindigkeit skalar; Stundenmittel 24h ago km/h (fu3010b0)\n",
    "prestab0      |   24h-Mean Luftdruck auf Stationshöhe (QFE); Stundenmittel (from -48h to -24h) hPa (prestab0)\n",
    "tre200b0_mean |   24h-Mean Lufttemperatur 2 m über Boden; Stundenmittel (from -48h to -24h) °C (tre200b0)\n",
    "ure200b0_mean |  24h-Mean Relative Luftfeuchtigkeit 2 m über Boden; Stundenmittel (from -48h to -24h) % (ure200b0)\n",
    "rre150b0_sum  |   24h-Summe Niederschlag; Stundensumme (from -48h to -24h) mm (rre150b0)\n",
    "sre000b0_sum  |  24h-Summe Sonnenscheindauer; Stundensumme (from -48h to -24h) min (sre000b0)\n",
    "fu3010b0_mean |   24h-Mean Windgeschwindigkeit skalar; Stundenmittel (from -48h to -24h) km/h (fu3010b0)\n",
    "prestab0_mean |   24h-Mean Luftdruck auf Stationshöhe (QFE); Stundenmittel (from -48h to -24h) hPa (prestab0)"
   ]
  },
  {
   "cell_type": "code",
   "execution_count": 61,
   "metadata": {
    "collapsed": false,
    "deletable": true,
    "editable": true,
    "scrolled": true
   },
   "outputs": [
    {
     "name": "stdout",
     "output_type": "stream",
     "text": [
      "<class 'pandas.core.frame.DataFrame'>\n",
      "RangeIndex: 94 entries, 0 to 93\n",
      "Data columns (total 14 columns):\n",
      "Date             94 non-null object\n",
      "Value            94 non-null float64\n",
      "tre200b0         94 non-null float64\n",
      "ure200b0         94 non-null float64\n",
      "rre150b0         94 non-null float64\n",
      "sre000b0         94 non-null float64\n",
      "fu3010b0         94 non-null float64\n",
      "prestab0         94 non-null float64\n",
      "tre200b0_mean    94 non-null float64\n",
      "ure200b0_mean    94 non-null float64\n",
      "rre150b0_sum     94 non-null float64\n",
      "sre000b0_sum     94 non-null float64\n",
      "fu3010b0_mean    94 non-null float64\n",
      "prestab0_mean    94 non-null float64\n",
      "dtypes: float64(13), object(1)\n",
      "memory usage: 10.4+ KB\n"
     ]
    }
   ],
   "source": [
    "# Print more than one variable\n",
    "from IPython.core.interactiveshell import InteractiveShell\n",
    "InteractiveShell.ast_node_interactivity = \"all\"\n",
    "\n",
    "r_DataSet.info()"
   ]
  },
  {
   "cell_type": "markdown",
   "metadata": {
    "deletable": true,
    "editable": true
   },
   "source": [
    "## Prepare DataSet\n",
    "- Pump Log longer than 600s. -> Full Throttle\n",
    "- Pump Log less than 600s, but more than 100s. -> Turn On\n",
    "- Pump Log less than 100s -> Do not pump!"
   ]
  },
  {
   "cell_type": "code",
   "execution_count": 62,
   "metadata": {
    "collapsed": false,
    "deletable": true,
    "editable": true
   },
   "outputs": [
    {
     "name": "stdout",
     "output_type": "stream",
     "text": [
      "<class 'pandas.core.frame.DataFrame'>\n",
      "RangeIndex: 94 entries, 0 to 93\n",
      "Data columns (total 15 columns):\n",
      "Class            94 non-null object\n",
      "Date             94 non-null object\n",
      "Value            94 non-null float64\n",
      "tre200b0         94 non-null float64\n",
      "ure200b0         94 non-null float64\n",
      "rre150b0         94 non-null float64\n",
      "sre000b0         94 non-null float64\n",
      "fu3010b0         94 non-null float64\n",
      "prestab0         94 non-null float64\n",
      "tre200b0_mean    94 non-null float64\n",
      "ure200b0_mean    94 non-null float64\n",
      "rre150b0_sum     94 non-null float64\n",
      "sre000b0_sum     94 non-null float64\n",
      "fu3010b0_mean    94 non-null float64\n",
      "prestab0_mean    94 non-null float64\n",
      "dtypes: float64(13), object(2)\n",
      "memory usage: 11.1+ KB\n"
     ]
    }
   ],
   "source": [
    "r_DataSet.insert(0,\"Class\",\"\",allow_duplicates=False)\n",
    "r_DataSet.loc[(r_DataSet.Value < 100), \"Class\"] = 'Off'\n",
    "\n",
    "r_DataSet.loc[(r_DataSet.Value > 100) & (r_DataSet.Value < 800), \"Class\"] = 'Med'\n",
    "r_DataSet.loc[(r_DataSet.Value > 600), \"Class\"] = 'High'\n",
    "\n",
    "r_DataSet.info()"
   ]
  },
  {
   "cell_type": "markdown",
   "metadata": {
    "deletable": true,
    "editable": true
   },
   "source": [
    "## Logistic Regression"
   ]
  },
  {
   "cell_type": "markdown",
   "metadata": {
    "deletable": true,
    "editable": true
   },
   "source": [
    "### Divide DataSet into TrainingSet (60%) and TestSet (100%) and Define Training Variable (y) and Explanation Variables (X)"
   ]
  },
  {
   "cell_type": "code",
   "execution_count": 63,
   "metadata": {
    "collapsed": false,
    "deletable": true,
    "editable": true
   },
   "outputs": [],
   "source": [
    "p_TrainSet = r_DataSet.sample(frac=0.6, replace=True) #60% of Data\n",
    "p_TestSet = r_DataSet.sample(frac=1, replace=True) #100% of Data\n",
    "\n",
    "yTrain = p_TrainSet.Class\n",
    "yTest = p_TestSet.Class\n",
    "\n",
    "Xtrain = p_TrainSet.loc[:,\"tre200b0\":]\n",
    "# Test Model, get X and y from TestSet\n",
    "Xtest = p_TestSet.loc[:,\"tre200b0\":]"
   ]
  },
  {
   "cell_type": "markdown",
   "metadata": {
    "deletable": true,
    "editable": true
   },
   "source": [
    "### Poly Features"
   ]
  },
  {
   "cell_type": "code",
   "execution_count": 64,
   "metadata": {
    "collapsed": false,
    "deletable": true,
    "editable": true
   },
   "outputs": [
    {
     "data": {
      "text/plain": [
       "LabelEncoder()"
      ]
     },
     "execution_count": 64,
     "metadata": {},
     "output_type": "execute_result"
    }
   ],
   "source": [
    "from sklearn.preprocessing import PolynomialFeatures\n",
    "from sklearn import preprocessing\n",
    "\n",
    "#polyDegree = 5\n",
    "#Xtrain = PolynomialFeatures(degree=polyDegree).fit_transform(Xtrain).astype(int)\n",
    "#Xtest = PolynomialFeatures(degree=polyDegree).fit_transform(Xtest).astype(int)\n",
    "\n",
    "normalizer = preprocessing.Normalizer().fit(Xtest)  # fit does nothing\n",
    "\n",
    "Xtrain = normalizer.transform(Xtrain)\n",
    "Xtest = normalizer.transform(Xtest)\n",
    "\n",
    "from sklearn import preprocessing\n",
    "le = preprocessing.LabelEncoder()\n",
    "\n",
    "le.fit(yTest)\n",
    "\n",
    "yTrain = le.transform(yTrain)\n",
    "yTest = le.transform(yTest)"
   ]
  },
  {
   "cell_type": "markdown",
   "metadata": {
    "deletable": true,
    "editable": true
   },
   "source": [
    "### Train Linear Regression and Set Train Variables"
   ]
  },
  {
   "cell_type": "code",
   "execution_count": 69,
   "metadata": {
    "collapsed": false,
    "deletable": true,
    "editable": true,
    "scrolled": false
   },
   "outputs": [
    {
     "name": "stderr",
     "output_type": "stream",
     "text": [
      "/usr/local/lib/python3.4/dist-packages/sklearn/neural_network/multilayer_perceptron.py:563: ConvergenceWarning: Stochastic Optimizer: Maximum iterations reached and the optimization hasn't converged yet.\n",
      "  % (), ConvergenceWarning)\n"
     ]
    },
    {
     "data": {
      "text/plain": [
       "MLPClassifier(activation='relu', alpha=0.0001, batch_size='auto', beta_1=0.9,\n",
       "       beta_2=0.999, early_stopping=False, epsilon=1e-08,\n",
       "       hidden_layer_sizes=(100,), learning_rate='constant',\n",
       "       learning_rate_init=0.001, max_iter=200, momentum=0.9,\n",
       "       nesterovs_momentum=True, power_t=0.5, random_state=None,\n",
       "       shuffle=True, solver='adam', tol=0.0001, validation_fraction=0.1,\n",
       "       verbose=False, warm_start=False)"
      ]
     },
     "execution_count": 69,
     "metadata": {},
     "output_type": "execute_result"
    },
    {
     "name": "stdout",
     "output_type": "stream",
     "text": [
      "Mean squared error: 0.63\n",
      "Variance score: 0.61\n"
     ]
    },
    {
     "data": {
      "text/plain": [
       "<matplotlib.collections.PathCollection at 0x7f0ba9778470>"
      ]
     },
     "execution_count": 69,
     "metadata": {},
     "output_type": "execute_result"
    },
    {
     "data": {
      "image/png": "[encoded data removed]",
      "text/plain": [
       "<matplotlib.figure.Figure at 0x7f0ba989bbe0>"
      ]
     },
     "metadata": {},
     "output_type": "display_data"
    }
   ],
   "source": [
    "from sklearn.neural_network import MLPClassifier\n",
    "model = MLPClassifier(# hidden_layer_sizes = (20,40,6 )\n",
    "                      # , solver = 'sgd'\n",
    "                      #, learning_rate = 'adaptive'\n",
    "                      #, alpha = 0.01\n",
    "#                      , activation = 'logistic'\n",
    "                     )\n",
    "\n",
    "model.fit(X = Xtrain, y = yTrain)\n",
    "\n",
    "# The coefficients\n",
    "#print('Coefficients: \\n', model.coef_)\n",
    "\n",
    "# The mean squared error\n",
    "print(\"Mean squared error: %.2f\"\n",
    "      % np.mean((model.predict(Xtrain) - yTrain) ** 2) ** 0.5)\n",
    "\n",
    "# Explained variance score: 1 is perfect prediction\n",
    "print('Variance score: %.2f' % model.score(Xtrain, yTrain))\n",
    "\n",
    "# Plot outputs\n",
    "plt.scatter(yTrain, model.predict(Xtrain), color='blue')\n",
    "\n",
    "plt.show()"
   ]
  },
  {
   "cell_type": "code",
   "execution_count": 70,
   "metadata": {
    "collapsed": false,
    "deletable": true,
    "editable": true,
    "scrolled": true
   },
   "outputs": [
    {
     "name": "stdout",
     "output_type": "stream",
     "text": [
      "Variance score: 0.64\n"
     ]
    }
   ],
   "source": [
    "from sklearn.externals import joblib\n",
    "#joblib.dump(regr, 'lr_medium_values.pkl', compress=9)\n",
    "\n",
    "model_clone = model\n",
    "#model_clone = joblib.load('lr_medium_values.pkl')\n",
    "\n",
    "# Explained variance score: 1 is perfect prediction\n",
    "print('Variance score: %.2f' % model_clone.score(Xtest, yTest))\n"
   ]
  },
  {
   "cell_type": "code",
   "execution_count": 71,
   "metadata": {
    "collapsed": false,
    "deletable": true,
    "editable": true
   },
   "outputs": [
    {
     "data": {
      "text/html": [
       "<div>\n",
       "<table border=\"1\" class=\"dataframe\">\n",
       "  <thead>\n",
       "    <tr style=\"text-align: right;\">\n",
       "      <th></th>\n",
       "      <th>0</th>\n",
       "      <th>1</th>\n",
       "      <th>2</th>\n",
       "      <th>3</th>\n",
       "      <th>4</th>\n",
       "      <th>5</th>\n",
       "      <th>6</th>\n",
       "      <th>7</th>\n",
       "      <th>8</th>\n",
       "      <th>9</th>\n",
       "      <th>...</th>\n",
       "      <th>84</th>\n",
       "      <th>85</th>\n",
       "      <th>86</th>\n",
       "      <th>87</th>\n",
       "      <th>88</th>\n",
       "      <th>89</th>\n",
       "      <th>90</th>\n",
       "      <th>91</th>\n",
       "      <th>92</th>\n",
       "      <th>93</th>\n",
       "    </tr>\n",
       "  </thead>\n",
       "  <tbody>\n",
       "    <tr>\n",
       "      <th>0</th>\n",
       "      <td>Med</td>\n",
       "      <td>Med</td>\n",
       "      <td>Med</td>\n",
       "      <td>Med</td>\n",
       "      <td>Med</td>\n",
       "      <td>Off</td>\n",
       "      <td>High</td>\n",
       "      <td>Off</td>\n",
       "      <td>Off</td>\n",
       "      <td>Med</td>\n",
       "      <td>...</td>\n",
       "      <td>Med</td>\n",
       "      <td>Off</td>\n",
       "      <td>Med</td>\n",
       "      <td>Med</td>\n",
       "      <td>Med</td>\n",
       "      <td>Med</td>\n",
       "      <td>Med</td>\n",
       "      <td>Med</td>\n",
       "      <td>Med</td>\n",
       "      <td>Med</td>\n",
       "    </tr>\n",
       "    <tr>\n",
       "      <th>1</th>\n",
       "      <td>Med</td>\n",
       "      <td>Med</td>\n",
       "      <td>Med</td>\n",
       "      <td>Med</td>\n",
       "      <td>Med</td>\n",
       "      <td>Med</td>\n",
       "      <td>Med</td>\n",
       "      <td>Med</td>\n",
       "      <td>Med</td>\n",
       "      <td>Med</td>\n",
       "      <td>...</td>\n",
       "      <td>Med</td>\n",
       "      <td>Med</td>\n",
       "      <td>Med</td>\n",
       "      <td>Med</td>\n",
       "      <td>Med</td>\n",
       "      <td>Med</td>\n",
       "      <td>Med</td>\n",
       "      <td>Med</td>\n",
       "      <td>Med</td>\n",
       "      <td>Med</td>\n",
       "    </tr>\n",
       "  </tbody>\n",
       "</table>\n",
       "<p>2 rows × 94 columns</p>\n",
       "</div>"
      ],
      "text/plain": [
       "    0    1    2    3    4    5     6    7    8    9  ...    84   85   86   87  \\\n",
       "0  Med  Med  Med  Med  Med  Off  High  Off  Off  Med ...   Med  Off  Med  Med   \n",
       "1  Med  Med  Med  Med  Med  Med   Med  Med  Med  Med ...   Med  Med  Med  Med   \n",
       "\n",
       "    88   89   90   91   92   93  \n",
       "0  Med  Med  Med  Med  Med  Med  \n",
       "1  Med  Med  Med  Med  Med  Med  \n",
       "\n",
       "[2 rows x 94 columns]"
      ]
     },
     "execution_count": 71,
     "metadata": {},
     "output_type": "execute_result"
    }
   ],
   "source": [
    "pd.DataFrame([le.inverse_transform(yTest), le.inverse_transform(model_clone.predict(Xtest))])"
   ]
  },
  {
   "cell_type": "code",
   "execution_count": 72,
   "metadata": {
    "collapsed": false,
    "deletable": true,
    "editable": true
   },
   "outputs": [
    {
     "data": {
      "text/html": [
       "<div>\n",
       "<table border=\"1\" class=\"dataframe\">\n",
       "  <thead>\n",
       "    <tr style=\"text-align: right;\">\n",
       "      <th></th>\n",
       "      <th>Class</th>\n",
       "      <th>Date</th>\n",
       "      <th>Value</th>\n",
       "      <th>tre200b0</th>\n",
       "      <th>ure200b0</th>\n",
       "      <th>rre150b0</th>\n",
       "      <th>sre000b0</th>\n",
       "      <th>fu3010b0</th>\n",
       "      <th>prestab0</th>\n",
       "      <th>tre200b0_mean</th>\n",
       "      <th>ure200b0_mean</th>\n",
       "      <th>rre150b0_sum</th>\n",
       "      <th>sre000b0_sum</th>\n",
       "      <th>fu3010b0_mean</th>\n",
       "      <th>prestab0_mean</th>\n",
       "    </tr>\n",
       "  </thead>\n",
       "  <tbody>\n",
       "    <tr>\n",
       "      <th>89</th>\n",
       "      <td>Off</td>\n",
       "      <td>2016-09-22</td>\n",
       "      <td>33.003</td>\n",
       "      <td>14.1</td>\n",
       "      <td>82.2</td>\n",
       "      <td>0.0</td>\n",
       "      <td>0.0</td>\n",
       "      <td>14.0</td>\n",
       "      <td>965.0</td>\n",
       "      <td>12.520833</td>\n",
       "      <td>81.8875</td>\n",
       "      <td>5.911938e-14</td>\n",
       "      <td>48.0</td>\n",
       "      <td>4.541667</td>\n",
       "      <td>961.0375</td>\n",
       "    </tr>\n",
       "  </tbody>\n",
       "</table>\n",
       "</div>"
      ],
      "text/plain": [
       "   Class        Date   Value  tre200b0  ure200b0  rre150b0  sre000b0  \\\n",
       "89   Off  2016-09-22  33.003      14.1      82.2       0.0       0.0   \n",
       "\n",
       "    fu3010b0  prestab0  tre200b0_mean  ure200b0_mean  rre150b0_sum  \\\n",
       "89      14.0     965.0      12.520833        81.8875  5.911938e-14   \n",
       "\n",
       "    sre000b0_sum  fu3010b0_mean  prestab0_mean  \n",
       "89          48.0       4.541667       961.0375  "
      ]
     },
     "execution_count": 72,
     "metadata": {},
     "output_type": "execute_result"
    },
    {
     "data": {
      "text/plain": [
       "'Off'"
      ]
     },
     "execution_count": 72,
     "metadata": {},
     "output_type": "execute_result"
    },
    {
     "data": {
      "text/plain": [
       "'Med'"
      ]
     },
     "execution_count": 72,
     "metadata": {},
     "output_type": "execute_result"
    }
   ],
   "source": [
    "from IPython.core.interactiveshell import InteractiveShell\n",
    "InteractiveShell.ast_node_interactivity = \"all\"\n",
    "\n",
    "rowIdx = 85\n",
    "\n",
    "p_TestSet.iloc[[rowIdx]]\n",
    "le.inverse_transform(yTest[rowIdx])\n",
    "le.inverse_transform(model_clone.predict(Xtest)[rowIdx])"
   ]
  },
  {
   "cell_type": "code",
   "execution_count": 15,
   "metadata": {
    "collapsed": false,
    "deletable": true,
    "editable": true
   },
   "outputs": [
    {
     "data": {
      "text/plain": [
       "['plant.Watering.data/NNClas_5deg.pkl']"
      ]
     },
     "execution_count": 15,
     "metadata": {},
     "output_type": "execute_result"
    }
   ],
   "source": [
    "#Save the model\n",
    "joblib.dump(model, 'plant.Watering.data/NNClas_5deg.pkl', protocol=2)"
   ]
  },
  {
   "cell_type": "markdown",
   "metadata": {
    "deletable": true,
    "editable": true
   },
   "source": [
    "#### Port your model to other languages\n",
    "Very good source for porting pkl (Pickle) Files to other langauges\n",
    "https://github.com/nok/sklearn-porter"
   ]
  },
  {
   "cell_type": "raw",
   "metadata": {},
   "source": [
    "from sklearn_porter import Porter\n",
    "\n",
    "# Export:\n",
    "porter = Porter(model, language='javascript')\n",
    "output = porter.export()\n",
    "print(output)"
   ]
  },
  {
   "cell_type": "markdown",
   "metadata": {},
   "source": [
    "To export the model into JavaScript, run\n",
    "\n",
    "```bash\n",
    "python -m sklearn_porter -i NNClas_5deg.pkl -o NNC -l js \n",
    "```"
   ]
  },
  {
   "cell_type": "code",
   "execution_count": null,
   "metadata": {
    "collapsed": true
   },
   "outputs": [],
   "source": []
  }
 ],
 "metadata": {
  "celltoolbar": "Edit Metadata",
  "kernelspec": {
   "display_name": "Python 3",
   "language": "python",
   "name": "python3"
  },
  "language_info": {
   "codemirror_mode": {
    "name": "ipython",
    "version": 3
   },
   "file_extension": ".py",
   "mimetype": "text/x-python",
   "name": "python",
   "nbconvert_exporter": "python",
   "pygments_lexer": "ipython3",
   "version": "3.4.2"
  }
 },
 "nbformat": 4,
 "nbformat_minor": 2
}
