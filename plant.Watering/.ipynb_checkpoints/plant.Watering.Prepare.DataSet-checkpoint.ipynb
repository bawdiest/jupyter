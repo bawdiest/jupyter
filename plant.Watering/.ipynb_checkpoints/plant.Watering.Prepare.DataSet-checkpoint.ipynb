{
 "cells": [
  {
   "cell_type": "markdown",
   "metadata": {},
   "source": [
    "# DataSet"
   ]
  },
  {
   "cell_type": "code",
   "execution_count": null,
   "metadata": {
    "collapsed": true
   },
   "outputs": [],
   "source": [
    "import pandas as pd"
   ]
  },
  {
   "cell_type": "markdown",
   "metadata": {},
   "source": [
    "## Get Data from other Notebooks"
   ]
  },
  {
   "cell_type": "code",
   "execution_count": null,
   "metadata": {
    "collapsed": true
   },
   "outputs": [],
   "source": [
    "%store -r p_Log\n",
    "%store -r p_weatherLog"
   ]
  },
  {
   "cell_type": "markdown",
   "metadata": {},
   "source": [
    "## Variables\n",
    "\n",
    "Variable | Description\n",
    "------------- |-------------|\n",
    "Date          |   29 non-null object\n",
    "Value         |   Pump Duration (predicted variable)29 non-null float64\n",
    "Time          |   29 non-null object\n",
    "DateTime_x    |   29 non-null object\n",
    "DateTime_y    |   29 non-null object\n",
    "tre200b0      |   Lufttemperatur 2 m über Boden; Stundenmittel 24h ago °C (tre200b0)\n",
    "ure200b0      |   Relative Luftfeuchtigkeit 2 m über Boden; Stundenmittel 24h ago % (ure200b0)\n",
    "rre150b0      |   Niederschlag; Stundensumme 24h ago mm (rre150b0)\n",
    "sre000b0      |   Sonnenscheindauer; Stundensumme 24h ago min (sre000b0)\n",
    "fu3010b0      |   Windgeschwindigkeit skalar; Stundenmittel 24h ago km/h (fu3010b0)\n",
    "prestab0      |   24h-Mean Luftdruck auf Stationshöhe (QFE); Stundenmittel (from -48h to -24h) hPa (prestab0)\n",
    "tre200b0_mean |   24h-Mean Lufttemperatur 2 m über Boden; Stundenmittel (from -48h to -24h) °C (tre200b0)\n",
    "ure200b0_mean |  24h-Mean Relative Luftfeuchtigkeit 2 m über Boden; Stundenmittel (from -48h to -24h) % (ure200b0)\n",
    "rre150b0_sum  |   24h-Summe Niederschlag; Stundensumme (from -48h to -24h) mm (rre150b0)\n",
    "sre000b0_sum  |  24h-Summe Sonnenscheindauer; Stundensumme (from -48h to -24h) min (sre000b0)\n",
    "fu3010b0_mean |   24h-Mean Windgeschwindigkeit skalar; Stundenmittel (from -48h to -24h) km/h (fu3010b0)\n",
    "prestab0_mean |   24h-Mean Luftdruck auf Stationshöhe (QFE); Stundenmittel (from -48h to -24h) hPa (prestab0)"
   ]
  },
  {
   "cell_type": "code",
   "execution_count": null,
   "metadata": {
    "collapsed": false
   },
   "outputs": [],
   "source": [
    "# We want to merge pump log with weather data was 24 ago\n",
    "# So, add one day to weather data and merge by \"DateTime\"\n",
    "p_weatherLog.index += pd.Timedelta(days=1)\n",
    "\n",
    "p_DataSet = p_Log\n",
    "p_DataSet = p_DataSet.merge(p_weatherLog, \n",
    "                            left_on=\"DateTime\", how=\"left\", left_index = False, right_index = True)\n",
    "#print(p_DataSet)\n",
    "\n",
    "# Add means and sums\n",
    "p_weatherLogRolling = p_weatherLog.rolling(24)\n",
    "p_DataSet = p_DataSet.merge(pd.DataFrame(p_weatherLogRolling.tre200b0.mean()),\n",
    "                            how=\"left\", left_index = True, right_index = True, suffixes = [\"\", \"_mean\"] )\n",
    "p_DataSet = p_DataSet.merge(pd.DataFrame(p_weatherLogRolling.ure200b0.mean()),\n",
    "                            how=\"left\", left_index = True, right_index = True, suffixes = [\"\", \"_mean\"] )\n",
    "p_DataSet = p_DataSet.merge(pd.DataFrame(p_weatherLogRolling.rre150b0.sum()),\n",
    "                            how=\"left\", left_index = True, right_index = True, suffixes = [\"\", \"_sum\"] )\n",
    "p_DataSet = p_DataSet.merge(pd.DataFrame(p_weatherLogRolling.sre000b0.sum()),\n",
    "                            how=\"left\", left_index = True, right_index = True, suffixes = [\"\", \"_sum\"] )\n",
    "p_DataSet = p_DataSet.merge(pd.DataFrame(p_weatherLogRolling.fu3010b0.mean()),\n",
    "                            how=\"left\", left_index = True, right_index = True, suffixes = [\"\", \"_mean\"] )\n",
    "p_DataSet = p_DataSet.merge(pd.DataFrame(p_weatherLogRolling.prestab0.mean()),\n",
    "                            how=\"left\", left_index = True, right_index = True, suffixes = [\"\", \"_mean\"] )\n",
    "\n",
    "p_DataSet = p_DataSet.dropna(axis = 0, how = \"any\")"
   ]
  },
  {
   "cell_type": "markdown",
   "metadata": {},
   "source": [
    "## Drop no longer needed columns"
   ]
  },
  {
   "cell_type": "code",
   "execution_count": null,
   "metadata": {
    "collapsed": true
   },
   "outputs": [],
   "source": [
    "p_DataSet = p_DataSet.drop(['DateTime_x', 'DateTime_y', 'Time'], axis = 1)"
   ]
  },
  {
   "cell_type": "markdown",
   "metadata": {},
   "source": [
    "## Save DataSet into CSV File"
   ]
  },
  {
   "cell_type": "code",
   "execution_count": null,
   "metadata": {
    "collapsed": false
   },
   "outputs": [],
   "source": [
    "p_DataSet.to_csv(\"plant.Watering.data/DataSet.csv\")"
   ]
  },
  {
   "cell_type": "code",
   "execution_count": null,
   "metadata": {
    "collapsed": true
   },
   "outputs": [],
   "source": []
  }
 ],
 "metadata": {
  "kernelspec": {
   "display_name": "Python 3",
   "language": "python",
   "name": "python3"
  },
  "language_info": {
   "codemirror_mode": {
    "name": "ipython",
    "version": 3
   },
   "file_extension": ".py",
   "mimetype": "text/x-python",
   "name": "python",
   "nbconvert_exporter": "python",
   "pygments_lexer": "ipython3",
   "version": "3.4.2"
  }
 },
 "nbformat": 4,
 "nbformat_minor": 2
}
