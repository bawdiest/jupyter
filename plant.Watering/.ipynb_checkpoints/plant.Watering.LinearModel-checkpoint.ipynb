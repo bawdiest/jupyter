{
 "cells": [
  {
   "cell_type": "markdown",
   "metadata": {
    "deletable": true,
    "editable": true
   },
   "source": [
    "# plant.Watering Prediction Model"
   ]
  },
  {
   "cell_type": "markdown",
   "metadata": {
    "deletable": true,
    "editable": true
   },
   "source": [
    "## Problem Statement\n",
    "We should predict the water consumption according to weather data"
   ]
  },
  {
   "cell_type": "markdown",
   "metadata": {
    "deletable": true,
    "editable": true
   },
   "source": [
    "## Import all libraries"
   ]
  },
  {
   "cell_type": "code",
   "execution_count": 67,
   "metadata": {
    "collapsed": false,
    "deletable": true,
    "editable": true
   },
   "outputs": [],
   "source": [
    "# Show Plot immedeately\n",
    "%matplotlib inline \n",
    "\n",
    "from scipy import stats\n",
    "import numpy as np\n",
    "from matplotlib import pyplot as plt\n",
    "import pymysql.cursors\n",
    "import pandas as pd\n",
    "from datetime import datetime\n",
    "from sklearn import linear_model"
   ]
  },
  {
   "cell_type": "markdown",
   "metadata": {
    "deletable": true,
    "editable": true
   },
   "source": [
    "## Import DataSet"
   ]
  },
  {
   "cell_type": "code",
   "execution_count": 68,
   "metadata": {
    "collapsed": false,
    "deletable": true,
    "editable": true,
    "scrolled": false
   },
   "outputs": [],
   "source": [
    "r_DataSet = pd.read_csv(\"plant.Watering.data/DataSet.csv\")"
   ]
  },
  {
   "cell_type": "markdown",
   "metadata": {
    "deletable": true,
    "editable": true
   },
   "source": [
    "## Variables\n",
    "\n",
    "Variable | Description\n",
    "------------- |-------------|\n",
    "Date          |   29 non-null object\n",
    "Value         |   Pump Duration (predicted variable)29 non-null float64\n",
    "Time          |   29 non-null object\n",
    "DateTime_x    |   29 non-null object\n",
    "DateTime_y    |   29 non-null object\n",
    "tre200b0      |   Lufttemperatur 2 m über Boden; Stundenmittel 24h ago °C (tre200b0)\n",
    "ure200b0      |   Relative Luftfeuchtigkeit 2 m über Boden; Stundenmittel 24h ago % (ure200b0)\n",
    "rre150b0      |   Niederschlag; Stundensumme 24h ago mm (rre150b0)\n",
    "sre000b0      |   Sonnenscheindauer; Stundensumme 24h ago min (sre000b0)\n",
    "fu3010b0      |   Windgeschwindigkeit skalar; Stundenmittel 24h ago km/h (fu3010b0)\n",
    "prestab0      |   24h-Mean Luftdruck auf Stationshöhe (QFE); Stundenmittel (from -48h to -24h) hPa (prestab0)\n",
    "tre200b0_mean |   24h-Mean Lufttemperatur 2 m über Boden; Stundenmittel (from -48h to -24h) °C (tre200b0)\n",
    "ure200b0_mean |  24h-Mean Relative Luftfeuchtigkeit 2 m über Boden; Stundenmittel (from -48h to -24h) % (ure200b0)\n",
    "rre150b0_sum  |   24h-Summe Niederschlag; Stundensumme (from -48h to -24h) mm (rre150b0)\n",
    "sre000b0_sum  |  24h-Summe Sonnenscheindauer; Stundensumme (from -48h to -24h) min (sre000b0)\n",
    "fu3010b0_mean |   24h-Mean Windgeschwindigkeit skalar; Stundenmittel (from -48h to -24h) km/h (fu3010b0)\n",
    "prestab0_mean |   24h-Mean Luftdruck auf Stationshöhe (QFE); Stundenmittel (from -48h to -24h) hPa (prestab0)"
   ]
  },
  {
   "cell_type": "code",
   "execution_count": 69,
   "metadata": {
    "collapsed": false,
    "deletable": true,
    "editable": true,
    "scrolled": true
   },
   "outputs": [
    {
     "name": "stdout",
     "output_type": "stream",
     "text": [
      "<class 'pandas.core.frame.DataFrame'>\n",
      "RangeIndex: 94 entries, 0 to 93\n",
      "Data columns (total 14 columns):\n",
      "Date             94 non-null object\n",
      "Value            94 non-null float64\n",
      "tre200b0         94 non-null float64\n",
      "ure200b0         94 non-null float64\n",
      "rre150b0         94 non-null float64\n",
      "sre000b0         94 non-null float64\n",
      "fu3010b0         94 non-null float64\n",
      "prestab0         94 non-null float64\n",
      "tre200b0_mean    94 non-null float64\n",
      "ure200b0_mean    94 non-null float64\n",
      "rre150b0_sum     94 non-null float64\n",
      "sre000b0_sum     94 non-null float64\n",
      "fu3010b0_mean    94 non-null float64\n",
      "prestab0_mean    94 non-null float64\n",
      "dtypes: float64(13), object(1)\n",
      "memory usage: 10.4+ KB\n"
     ]
    }
   ],
   "source": [
    "# Print more than one variable\n",
    "from IPython.core.interactiveshell import InteractiveShell\n",
    "InteractiveShell.ast_node_interactivity = \"all\"\n",
    "\n",
    "r_DataSet.info()"
   ]
  },
  {
   "cell_type": "markdown",
   "metadata": {
    "deletable": true,
    "editable": true
   },
   "source": [
    "## Lineares Model"
   ]
  },
  {
   "cell_type": "code",
   "execution_count": 70,
   "metadata": {
    "collapsed": false,
    "deletable": true,
    "editable": true
   },
   "outputs": [
    {
     "data": {
      "text/html": [
       "<div>\n",
       "<table border=\"1\" class=\"dataframe\">\n",
       "  <thead>\n",
       "    <tr style=\"text-align: right;\">\n",
       "      <th></th>\n",
       "      <th>Value</th>\n",
       "      <th>tre200b0</th>\n",
       "      <th>ure200b0</th>\n",
       "      <th>rre150b0</th>\n",
       "      <th>sre000b0</th>\n",
       "      <th>fu3010b0</th>\n",
       "      <th>prestab0</th>\n",
       "      <th>tre200b0_mean</th>\n",
       "      <th>ure200b0_mean</th>\n",
       "      <th>rre150b0_sum</th>\n",
       "      <th>sre000b0_sum</th>\n",
       "      <th>fu3010b0_mean</th>\n",
       "      <th>prestab0_mean</th>\n",
       "    </tr>\n",
       "  </thead>\n",
       "  <tbody>\n",
       "    <tr>\n",
       "      <th>count</th>\n",
       "      <td>46.000000</td>\n",
       "      <td>46.000000</td>\n",
       "      <td>46.000000</td>\n",
       "      <td>46.000000</td>\n",
       "      <td>46.000000</td>\n",
       "      <td>46.000000</td>\n",
       "      <td>46.000000</td>\n",
       "      <td>46.000000</td>\n",
       "      <td>46.000000</td>\n",
       "      <td>4.600000e+01</td>\n",
       "      <td>46.000000</td>\n",
       "      <td>46.000000</td>\n",
       "      <td>46.000000</td>\n",
       "    </tr>\n",
       "    <tr>\n",
       "      <th>mean</th>\n",
       "      <td>469.179413</td>\n",
       "      <td>17.115217</td>\n",
       "      <td>69.250000</td>\n",
       "      <td>0.076087</td>\n",
       "      <td>6.543478</td>\n",
       "      <td>7.856522</td>\n",
       "      <td>959.406522</td>\n",
       "      <td>15.535326</td>\n",
       "      <td>73.778442</td>\n",
       "      <td>2.823913e+00</td>\n",
       "      <td>450.891304</td>\n",
       "      <td>5.624728</td>\n",
       "      <td>960.679076</td>\n",
       "    </tr>\n",
       "    <tr>\n",
       "      <th>std</th>\n",
       "      <td>195.545165</td>\n",
       "      <td>7.195306</td>\n",
       "      <td>14.257641</td>\n",
       "      <td>0.415363</td>\n",
       "      <td>15.416739</td>\n",
       "      <td>5.228284</td>\n",
       "      <td>6.650226</td>\n",
       "      <td>6.536440</td>\n",
       "      <td>9.041192</td>\n",
       "      <td>7.506477e+00</td>\n",
       "      <td>307.944600</td>\n",
       "      <td>1.778806</td>\n",
       "      <td>5.840181</td>\n",
       "    </tr>\n",
       "    <tr>\n",
       "      <th>min</th>\n",
       "      <td>109.288000</td>\n",
       "      <td>0.200000</td>\n",
       "      <td>32.600000</td>\n",
       "      <td>0.000000</td>\n",
       "      <td>0.000000</td>\n",
       "      <td>1.400000</td>\n",
       "      <td>938.800000</td>\n",
       "      <td>1.479167</td>\n",
       "      <td>46.250000</td>\n",
       "      <td>2.386980e-15</td>\n",
       "      <td>0.000000</td>\n",
       "      <td>3.191667</td>\n",
       "      <td>947.220833</td>\n",
       "    </tr>\n",
       "    <tr>\n",
       "      <th>25%</th>\n",
       "      <td>324.092250</td>\n",
       "      <td>13.525000</td>\n",
       "      <td>60.850000</td>\n",
       "      <td>0.000000</td>\n",
       "      <td>0.000000</td>\n",
       "      <td>4.400000</td>\n",
       "      <td>956.700000</td>\n",
       "      <td>12.742708</td>\n",
       "      <td>68.907292</td>\n",
       "      <td>6.844525e-14</td>\n",
       "      <td>152.500000</td>\n",
       "      <td>4.091667</td>\n",
       "      <td>957.495833</td>\n",
       "    </tr>\n",
       "    <tr>\n",
       "      <th>50%</th>\n",
       "      <td>488.163000</td>\n",
       "      <td>18.600000</td>\n",
       "      <td>69.300000</td>\n",
       "      <td>0.000000</td>\n",
       "      <td>0.000000</td>\n",
       "      <td>6.300000</td>\n",
       "      <td>960.200000</td>\n",
       "      <td>17.102083</td>\n",
       "      <td>74.012500</td>\n",
       "      <td>8.150425e-14</td>\n",
       "      <td>426.500000</td>\n",
       "      <td>5.454167</td>\n",
       "      <td>961.812500</td>\n",
       "    </tr>\n",
       "    <tr>\n",
       "      <th>75%</th>\n",
       "      <td>616.903500</td>\n",
       "      <td>22.775000</td>\n",
       "      <td>79.325000</td>\n",
       "      <td>0.000000</td>\n",
       "      <td>0.750000</td>\n",
       "      <td>10.325000</td>\n",
       "      <td>962.850000</td>\n",
       "      <td>20.692708</td>\n",
       "      <td>79.481250</td>\n",
       "      <td>3.000000e-01</td>\n",
       "      <td>763.750000</td>\n",
       "      <td>6.364583</td>\n",
       "      <td>964.528125</td>\n",
       "    </tr>\n",
       "    <tr>\n",
       "      <th>max</th>\n",
       "      <td>796.252000</td>\n",
       "      <td>25.700000</td>\n",
       "      <td>94.000000</td>\n",
       "      <td>2.800000</td>\n",
       "      <td>60.000000</td>\n",
       "      <td>31.000000</td>\n",
       "      <td>972.300000</td>\n",
       "      <td>23.945833</td>\n",
       "      <td>94.912500</td>\n",
       "      <td>3.840000e+01</td>\n",
       "      <td>889.000000</td>\n",
       "      <td>11.200000</td>\n",
       "      <td>971.366667</td>\n",
       "    </tr>\n",
       "  </tbody>\n",
       "</table>\n",
       "</div>"
      ],
      "text/plain": [
       "            Value   tre200b0   ure200b0   rre150b0   sre000b0   fu3010b0  \\\n",
       "count   46.000000  46.000000  46.000000  46.000000  46.000000  46.000000   \n",
       "mean   469.179413  17.115217  69.250000   0.076087   6.543478   7.856522   \n",
       "std    195.545165   7.195306  14.257641   0.415363  15.416739   5.228284   \n",
       "min    109.288000   0.200000  32.600000   0.000000   0.000000   1.400000   \n",
       "25%    324.092250  13.525000  60.850000   0.000000   0.000000   4.400000   \n",
       "50%    488.163000  18.600000  69.300000   0.000000   0.000000   6.300000   \n",
       "75%    616.903500  22.775000  79.325000   0.000000   0.750000  10.325000   \n",
       "max    796.252000  25.700000  94.000000   2.800000  60.000000  31.000000   \n",
       "\n",
       "         prestab0  tre200b0_mean  ure200b0_mean  rre150b0_sum  sre000b0_sum  \\\n",
       "count   46.000000      46.000000      46.000000  4.600000e+01     46.000000   \n",
       "mean   959.406522      15.535326      73.778442  2.823913e+00    450.891304   \n",
       "std      6.650226       6.536440       9.041192  7.506477e+00    307.944600   \n",
       "min    938.800000       1.479167      46.250000  2.386980e-15      0.000000   \n",
       "25%    956.700000      12.742708      68.907292  6.844525e-14    152.500000   \n",
       "50%    960.200000      17.102083      74.012500  8.150425e-14    426.500000   \n",
       "75%    962.850000      20.692708      79.481250  3.000000e-01    763.750000   \n",
       "max    972.300000      23.945833      94.912500  3.840000e+01    889.000000   \n",
       "\n",
       "       fu3010b0_mean  prestab0_mean  \n",
       "count      46.000000      46.000000  \n",
       "mean        5.624728     960.679076  \n",
       "std         1.778806       5.840181  \n",
       "min         3.191667     947.220833  \n",
       "25%         4.091667     957.495833  \n",
       "50%         5.454167     961.812500  \n",
       "75%         6.364583     964.528125  \n",
       "max        11.200000     971.366667  "
      ]
     },
     "execution_count": 70,
     "metadata": {},
     "output_type": "execute_result"
    }
   ],
   "source": [
    "#r_DataSet = r_DataSet[(r_DataSet.Value > 100) & (r_DataSet.Value != 480) & (r_DataSet.Value < 800)]\n",
    "r_DataSet = r_DataSet[(r_DataSet.Value > 100) & (r_DataSet.Value < 600) & (r_DataSet.Value != 480)]\n",
    "#r_DataSet = r_DataSet[(r_DataSet.Value < 100)]\n",
    "#r_DataSet = r_DataSet[(r_DataSet.Value > 600)]\n",
    "\n",
    "#r_DataSet.info()\n",
    "#r_DataSet.describe()\n",
    "\n",
    "r_DataSet.describe()"
   ]
  },
  {
   "cell_type": "markdown",
   "metadata": {
    "deletable": true,
    "editable": true
   },
   "source": [
    "### Divide DataSet into TrainingSet (60%) and TestSet (100%) and Define Training Variable (y) and Explanation Variables (X)"
   ]
  },
  {
   "cell_type": "code",
   "execution_count": 71,
   "metadata": {
    "collapsed": false,
    "deletable": true,
    "editable": true
   },
   "outputs": [],
   "source": [
    "p_TrainSet = r_DataSet.sample(frac=0.6, replace=True) #60% of Data\n",
    "p_TestSet = r_DataSet.sample(frac=1, replace=True) #100% of Data\n",
    "\n",
    "Xtrain = p_TrainSet.loc[:,\"tre200b0\":]\n",
    "\n",
    "yTrain = p_TrainSet.Value\n",
    "yTest = p_TestSet.Value\n",
    "\n",
    "# Test Model, get X and y from TestSet\n",
    "Xtest = p_TestSet.loc[:,\"tre200b0\":]"
   ]
  },
  {
   "cell_type": "markdown",
   "metadata": {
    "deletable": true,
    "editable": true
   },
   "source": [
    "### Poly Features"
   ]
  },
  {
   "cell_type": "code",
   "execution_count": 72,
   "metadata": {
    "collapsed": false,
    "deletable": true,
    "editable": true
   },
   "outputs": [],
   "source": [
    "from sklearn.preprocessing import PolynomialFeatures\n",
    "polyDegree = 2\n",
    "Xtrain = PolynomialFeatures(degree=polyDegree).fit_transform(Xtrain).astype(int)\n",
    "Xtest = PolynomialFeatures(degree=polyDegree).fit_transform(Xtest).astype(int)"
   ]
  },
  {
   "cell_type": "markdown",
   "metadata": {
    "deletable": true,
    "editable": true
   },
   "source": [
    "### Train Linear Regression and Set Train Variables"
   ]
  },
  {
   "cell_type": "code",
   "execution_count": 73,
   "metadata": {
    "collapsed": false,
    "deletable": true,
    "editable": true,
    "scrolled": false
   },
   "outputs": [
    {
     "data": {
      "text/plain": [
       "LinearRegression(copy_X=True, fit_intercept=True, n_jobs=1, normalize=False)"
      ]
     },
     "execution_count": 73,
     "metadata": {},
     "output_type": "execute_result"
    },
    {
     "name": "stdout",
     "output_type": "stream",
     "text": [
      "Mean squared error: 0.00\n",
      "Variance score: 1.00\n"
     ]
    },
    {
     "data": {
      "text/plain": [
       "<matplotlib.collections.PathCollection at 0x7f547607c470>"
      ]
     },
     "execution_count": 73,
     "metadata": {},
     "output_type": "execute_result"
    },
    {
     "data": {
      "image/png": "[encoded data removed]",
      "text/plain": [
       "<matplotlib.figure.Figure at 0x7f547642ef60>"
      ]
     },
     "metadata": {},
     "output_type": "display_data"
    }
   ],
   "source": [
    "regr = linear_model.LinearRegression()\n",
    "regr.fit(Xtrain, yTrain)\n",
    "\n",
    "# The coefficients\n",
    "#print('Coefficients: \\n', regr.coef_)\n",
    "\n",
    "# The mean squared error\n",
    "print(\"Mean squared error: %.2f\"\n",
    "      % np.mean((regr.predict(Xtrain) - yTrain) ** 2) ** 0.5)\n",
    "\n",
    "# Explained variance score: 1 is perfect prediction\n",
    "print('Variance score: %.2f' % regr.score(Xtrain, yTrain))\n",
    "\n",
    "# Plot outputs\n",
    "plt.scatter(yTrain, regr.predict(Xtrain), color='blue')\n",
    "\n",
    "plt.show()"
   ]
  },
  {
   "cell_type": "code",
   "execution_count": 74,
   "metadata": {
    "collapsed": false,
    "deletable": true,
    "editable": true,
    "scrolled": true
   },
   "outputs": [
    {
     "name": "stdout",
     "output_type": "stream",
     "text": [
      "Variance score: -2.13\n"
     ]
    },
    {
     "data": {
      "text/plain": [
       "<matplotlib.collections.PathCollection at 0x7f547604f1d0>"
      ]
     },
     "execution_count": 74,
     "metadata": {},
     "output_type": "execute_result"
    },
    {
     "data": {
      "image/png": "[encoded data removed]",
      "text/plain": [
       "<matplotlib.figure.Figure at 0x7f54761b4ef0>"
      ]
     },
     "metadata": {},
     "output_type": "display_data"
    }
   ],
   "source": [
    "from sklearn.externals import joblib\n",
    "#joblib.dump(regr, 'lr_medium_values.pkl', compress=9)\n",
    "\n",
    "model_clone = regr\n",
    "#model_clone = joblib.load('lr_medium_values.pkl')\n",
    "\n",
    "# Explained variance score: 1 is perfect prediction\n",
    "print('Variance score: %.2f' % model_clone.score(Xtest, yTest))\n",
    "plt.scatter(yTest, model_clone.predict(Xtest), color='blue')\n",
    "plt.show()"
   ]
  },
  {
   "cell_type": "code",
   "execution_count": 75,
   "metadata": {
    "collapsed": false,
    "deletable": true,
    "editable": true
   },
   "outputs": [],
   "source": [
    "#Save the model\n",
    "#joblib.dump(regr, 'plant.Watering.data/linreg_med_5deg.pkl')"
   ]
  },
  {
   "cell_type": "markdown",
   "metadata": {
    "deletable": true,
    "editable": true
   },
   "source": [
    "#### Port your model to other languages\n",
    "Very good source for porting pkl (Pickle) Files to other langauges\n",
    "https://github.com/nok/sklearn-porter"
   ]
  }
 ],
 "metadata": {
  "celltoolbar": "Edit Metadata",
  "kernelspec": {
   "display_name": "Python 3",
   "language": "python",
   "name": "python3"
  },
  "language_info": {
   "codemirror_mode": {
    "name": "ipython",
    "version": 3
   },
   "file_extension": ".py",
   "mimetype": "text/x-python",
   "name": "python",
   "nbconvert_exporter": "python",
   "pygments_lexer": "ipython3",
   "version": "3.4.2"
  }
 },
 "nbformat": 4,
 "nbformat_minor": 2
}
