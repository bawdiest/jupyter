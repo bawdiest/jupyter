{
 "cells": [
  {
   "cell_type": "markdown",
   "metadata": {
    "deletable": true,
    "editable": true
   },
   "source": [
    "# plant.Watering Prediction Model"
   ]
  },
  {
   "cell_type": "markdown",
   "metadata": {
    "deletable": true,
    "editable": true
   },
   "source": [
    "## Problem Statement\n",
    "We should predict the water consumption according to weather data"
   ]
  },
  {
   "cell_type": "markdown",
   "metadata": {
    "deletable": true,
    "editable": true
   },
   "source": [
    "## Import all libraries"
   ]
  },
  {
   "cell_type": "code",
   "execution_count": 14,
   "metadata": {
    "collapsed": false,
    "deletable": true,
    "editable": true
   },
   "outputs": [],
   "source": [
    "# Show Plot immedeately\n",
    "%matplotlib inline \n",
    "\n",
    "from scipy import stats\n",
    "import numpy as np\n",
    "from matplotlib import pyplot as plt\n",
    "import pymysql.cursors\n",
    "import pandas as pd\n",
    "from datetime import datetime\n",
    "from sklearn import linear_model"
   ]
  },
  {
   "cell_type": "markdown",
   "metadata": {
    "deletable": true,
    "editable": true
   },
   "source": [
    "## Import DataSet"
   ]
  },
  {
   "cell_type": "code",
   "execution_count": 15,
   "metadata": {
    "collapsed": false,
    "deletable": true,
    "editable": true,
    "scrolled": false
   },
   "outputs": [],
   "source": [
    "r_DataSet = pd.read_csv(\"plant.Watering.data/DataSet.csv\")"
   ]
  },
  {
   "cell_type": "markdown",
   "metadata": {
    "deletable": true,
    "editable": true
   },
   "source": [
    "## Variables\n",
    "\n",
    "Variable | Description\n",
    "------------- |-------------|\n",
    "Date          |   29 non-null object\n",
    "Value         |   Pump Duration (predicted variable)29 non-null float64\n",
    "Time          |   29 non-null object\n",
    "DateTime_x    |   29 non-null object\n",
    "DateTime_y    |   29 non-null object\n",
    "tre200b0      |   Lufttemperatur 2 m über Boden; Stundenmittel 24h ago °C (tre200b0)\n",
    "ure200b0      |   Relative Luftfeuchtigkeit 2 m über Boden; Stundenmittel 24h ago % (ure200b0)\n",
    "rre150b0      |   Niederschlag; Stundensumme 24h ago mm (rre150b0)\n",
    "sre000b0      |   Sonnenscheindauer; Stundensumme 24h ago min (sre000b0)\n",
    "fu3010b0      |   Windgeschwindigkeit skalar; Stundenmittel 24h ago km/h (fu3010b0)\n",
    "prestab0      |   24h-Mean Luftdruck auf Stationshöhe (QFE); Stundenmittel (from -48h to -24h) hPa (prestab0)\n",
    "tre200b0_mean |   24h-Mean Lufttemperatur 2 m über Boden; Stundenmittel (from -48h to -24h) °C (tre200b0)\n",
    "ure200b0_mean |  24h-Mean Relative Luftfeuchtigkeit 2 m über Boden; Stundenmittel (from -48h to -24h) % (ure200b0)\n",
    "rre150b0_sum  |   24h-Summe Niederschlag; Stundensumme (from -48h to -24h) mm (rre150b0)\n",
    "sre000b0_sum  |  24h-Summe Sonnenscheindauer; Stundensumme (from -48h to -24h) min (sre000b0)\n",
    "fu3010b0_mean |   24h-Mean Windgeschwindigkeit skalar; Stundenmittel (from -48h to -24h) km/h (fu3010b0)\n",
    "prestab0_mean |   24h-Mean Luftdruck auf Stationshöhe (QFE); Stundenmittel (from -48h to -24h) hPa (prestab0)"
   ]
  },
  {
   "cell_type": "code",
   "execution_count": 16,
   "metadata": {
    "collapsed": false,
    "deletable": true,
    "editable": true,
    "scrolled": true
   },
   "outputs": [
    {
     "name": "stdout",
     "output_type": "stream",
     "text": [
      "<class 'pandas.core.frame.DataFrame'>\n",
      "RangeIndex: 98 entries, 0 to 97\n",
      "Data columns (total 19 columns):\n",
      "Date             98 non-null object\n",
      "Value            98 non-null float64\n",
      "tre200b0         98 non-null float64\n",
      "tre200bn         98 non-null float64\n",
      "tre200bx         98 non-null float64\n",
      "ure200b0         98 non-null float64\n",
      "rre150b0         98 non-null float64\n",
      "sre000b0         98 non-null object\n",
      "gre000b0         98 non-null object\n",
      "dkl010b0         98 non-null object\n",
      "fu3010b0         98 non-null object\n",
      "fu3010b1         98 non-null object\n",
      "prestab0         98 non-null float64\n",
      "tre200b0_mean    98 non-null float64\n",
      "ure200b0_mean    98 non-null float64\n",
      "rre150b0_sum     98 non-null float64\n",
      "sre000b0_sum     98 non-null int64\n",
      "fu3010b0_mean    98 non-null object\n",
      "prestab0_mean    98 non-null float64\n",
      "dtypes: float64(11), int64(1), object(7)\n",
      "memory usage: 14.6+ KB\n"
     ]
    }
   ],
   "source": [
    "# Print more than one variable\n",
    "from IPython.core.interactiveshell import InteractiveShell\n",
    "InteractiveShell.ast_node_interactivity = \"all\"\n",
    "\n",
    "r_DataSet.info()"
   ]
  },
  {
   "cell_type": "markdown",
   "metadata": {
    "deletable": true,
    "editable": true
   },
   "source": [
    "## Neural Network"
   ]
  },
  {
   "cell_type": "code",
   "execution_count": 18,
   "metadata": {
    "collapsed": false,
    "deletable": true,
    "editable": true
   },
   "outputs": [
    {
     "data": {
      "text/html": [
       "<div>\n",
       "<table border=\"1\" class=\"dataframe\">\n",
       "  <thead>\n",
       "    <tr style=\"text-align: right;\">\n",
       "      <th></th>\n",
       "      <th>Value</th>\n",
       "      <th>tre200b0</th>\n",
       "      <th>tre200bn</th>\n",
       "      <th>tre200bx</th>\n",
       "      <th>ure200b0</th>\n",
       "      <th>rre150b0</th>\n",
       "      <th>prestab0</th>\n",
       "      <th>tre200b0_mean</th>\n",
       "      <th>ure200b0_mean</th>\n",
       "      <th>rre150b0_sum</th>\n",
       "      <th>sre000b0_sum</th>\n",
       "      <th>prestab0_mean</th>\n",
       "    </tr>\n",
       "  </thead>\n",
       "  <tbody>\n",
       "    <tr>\n",
       "      <th>count</th>\n",
       "      <td>98.000000</td>\n",
       "      <td>98.000000</td>\n",
       "      <td>98.000000</td>\n",
       "      <td>98.000000</td>\n",
       "      <td>98.000000</td>\n",
       "      <td>98.000000</td>\n",
       "      <td>98.000000</td>\n",
       "      <td>98.000000</td>\n",
       "      <td>98.000000</td>\n",
       "      <td>9.800000e+01</td>\n",
       "      <td>98.0</td>\n",
       "      <td>98.000000</td>\n",
       "    </tr>\n",
       "    <tr>\n",
       "      <th>mean</th>\n",
       "      <td>516.702878</td>\n",
       "      <td>16.615306</td>\n",
       "      <td>16.003061</td>\n",
       "      <td>17.172449</td>\n",
       "      <td>68.904082</td>\n",
       "      <td>0.244898</td>\n",
       "      <td>959.730612</td>\n",
       "      <td>15.283291</td>\n",
       "      <td>74.195026</td>\n",
       "      <td>4.922449e+00</td>\n",
       "      <td>0.0</td>\n",
       "      <td>959.561097</td>\n",
       "    </tr>\n",
       "    <tr>\n",
       "      <th>std</th>\n",
       "      <td>300.171086</td>\n",
       "      <td>6.761403</td>\n",
       "      <td>6.681571</td>\n",
       "      <td>6.853606</td>\n",
       "      <td>15.207980</td>\n",
       "      <td>0.984113</td>\n",
       "      <td>5.468059</td>\n",
       "      <td>6.242163</td>\n",
       "      <td>11.118044</td>\n",
       "      <td>1.097677e+01</td>\n",
       "      <td>0.0</td>\n",
       "      <td>5.342952</td>\n",
       "    </tr>\n",
       "    <tr>\n",
       "      <th>min</th>\n",
       "      <td>1.909000</td>\n",
       "      <td>0.200000</td>\n",
       "      <td>-0.200000</td>\n",
       "      <td>0.400000</td>\n",
       "      <td>28.400000</td>\n",
       "      <td>0.000000</td>\n",
       "      <td>938.800000</td>\n",
       "      <td>0.550000</td>\n",
       "      <td>41.408333</td>\n",
       "      <td>6.661338e-16</td>\n",
       "      <td>0.0</td>\n",
       "      <td>944.558333</td>\n",
       "    </tr>\n",
       "    <tr>\n",
       "      <th>25%</th>\n",
       "      <td>342.037500</td>\n",
       "      <td>13.275000</td>\n",
       "      <td>13.050000</td>\n",
       "      <td>13.950000</td>\n",
       "      <td>58.150000</td>\n",
       "      <td>0.000000</td>\n",
       "      <td>957.400000</td>\n",
       "      <td>12.644792</td>\n",
       "      <td>67.285417</td>\n",
       "      <td>6.006307e-14</td>\n",
       "      <td>0.0</td>\n",
       "      <td>957.073958</td>\n",
       "    </tr>\n",
       "    <tr>\n",
       "      <th>50%</th>\n",
       "      <td>480.000000</td>\n",
       "      <td>18.500000</td>\n",
       "      <td>18.000000</td>\n",
       "      <td>19.050000</td>\n",
       "      <td>70.450000</td>\n",
       "      <td>0.000000</td>\n",
       "      <td>960.000000</td>\n",
       "      <td>17.139583</td>\n",
       "      <td>74.922917</td>\n",
       "      <td>1.000000e-01</td>\n",
       "      <td>0.0</td>\n",
       "      <td>959.695833</td>\n",
       "    </tr>\n",
       "    <tr>\n",
       "      <th>75%</th>\n",
       "      <td>677.431500</td>\n",
       "      <td>21.700000</td>\n",
       "      <td>21.200000</td>\n",
       "      <td>22.475000</td>\n",
       "      <td>81.400000</td>\n",
       "      <td>0.000000</td>\n",
       "      <td>962.975000</td>\n",
       "      <td>19.556250</td>\n",
       "      <td>83.572917</td>\n",
       "      <td>4.100000e+00</td>\n",
       "      <td>0.0</td>\n",
       "      <td>962.394792</td>\n",
       "    </tr>\n",
       "    <tr>\n",
       "      <th>max</th>\n",
       "      <td>1271.000000</td>\n",
       "      <td>25.700000</td>\n",
       "      <td>25.100000</td>\n",
       "      <td>27.000000</td>\n",
       "      <td>95.900000</td>\n",
       "      <td>6.400000</td>\n",
       "      <td>971.500000</td>\n",
       "      <td>24.341667</td>\n",
       "      <td>93.641667</td>\n",
       "      <td>5.140000e+01</td>\n",
       "      <td>0.0</td>\n",
       "      <td>971.366667</td>\n",
       "    </tr>\n",
       "  </tbody>\n",
       "</table>\n",
       "</div>"
      ],
      "text/plain": [
       "             Value   tre200b0   tre200bn   tre200bx   ure200b0   rre150b0  \\\n",
       "count    98.000000  98.000000  98.000000  98.000000  98.000000  98.000000   \n",
       "mean    516.702878  16.615306  16.003061  17.172449  68.904082   0.244898   \n",
       "std     300.171086   6.761403   6.681571   6.853606  15.207980   0.984113   \n",
       "min       1.909000   0.200000  -0.200000   0.400000  28.400000   0.000000   \n",
       "25%     342.037500  13.275000  13.050000  13.950000  58.150000   0.000000   \n",
       "50%     480.000000  18.500000  18.000000  19.050000  70.450000   0.000000   \n",
       "75%     677.431500  21.700000  21.200000  22.475000  81.400000   0.000000   \n",
       "max    1271.000000  25.700000  25.100000  27.000000  95.900000   6.400000   \n",
       "\n",
       "         prestab0  tre200b0_mean  ure200b0_mean  rre150b0_sum  sre000b0_sum  \\\n",
       "count   98.000000      98.000000      98.000000  9.800000e+01          98.0   \n",
       "mean   959.730612      15.283291      74.195026  4.922449e+00           0.0   \n",
       "std      5.468059       6.242163      11.118044  1.097677e+01           0.0   \n",
       "min    938.800000       0.550000      41.408333  6.661338e-16           0.0   \n",
       "25%    957.400000      12.644792      67.285417  6.006307e-14           0.0   \n",
       "50%    960.000000      17.139583      74.922917  1.000000e-01           0.0   \n",
       "75%    962.975000      19.556250      83.572917  4.100000e+00           0.0   \n",
       "max    971.500000      24.341667      93.641667  5.140000e+01           0.0   \n",
       "\n",
       "       prestab0_mean  \n",
       "count      98.000000  \n",
       "mean      959.561097  \n",
       "std         5.342952  \n",
       "min       944.558333  \n",
       "25%       957.073958  \n",
       "50%       959.695833  \n",
       "75%       962.394792  \n",
       "max       971.366667  "
      ]
     },
     "execution_count": 18,
     "metadata": {},
     "output_type": "execute_result"
    }
   ],
   "source": [
    "from sklearn.preprocessing import PolynomialFeatures\n",
    "\n",
    "#r_DataSet = r_DataSet[(r_DataSet.Value > 100) & (r_DataSet.Value != 480) & (r_DataSet.Value < 800)]\n",
    "#r_DataSet = r_DataSet[(r_DataSet.Value > 350) & (r_DataSet.Value < 600) & (r_DataSet.Value != 480)]\n",
    "#r_DataSet = r_DataSet[(r_DataSet.Value < 100)]\n",
    "#r_DataSet = r_DataSet[(r_DataSet.Value > 600)]\n",
    "\n",
    "#r_DataSet.info()\n",
    "#r_DataSet.describe()\n",
    "\n",
    "r_DataSet.describe()"
   ]
  },
  {
   "cell_type": "markdown",
   "metadata": {
    "deletable": true,
    "editable": true
   },
   "source": [
    "### Divide DataSet into TrainingSet (60%) and TestSet (100%) and Define Training Variable (y) and Explanation Variables (X)"
   ]
  },
  {
   "cell_type": "code",
   "execution_count": 19,
   "metadata": {
    "collapsed": false,
    "deletable": true,
    "editable": true
   },
   "outputs": [],
   "source": [
    "p_TrainSet = r_DataSet.sample(frac=0.6, replace=True)\n",
    "p_TestSet = r_DataSet.sample(frac=1, replace=True)\n",
    "\n",
    "Xtrain = p_TrainSet.loc[:,\"tre200b0\":]\n",
    "\n",
    "yTrain = p_TrainSet.Value\n",
    "yTest = p_TestSet.Value\n",
    "\n",
    "# Test Model, get X and y from TestSet\n",
    "Xtest = p_TestSet.loc[:,\"tre200b0\":]"
   ]
  },
  {
   "cell_type": "markdown",
   "metadata": {
    "deletable": true,
    "editable": true
   },
   "source": [
    "### Train Neural Network"
   ]
  },
  {
   "cell_type": "code",
   "execution_count": 31,
   "metadata": {
    "collapsed": false,
    "deletable": true,
    "editable": true,
    "scrolled": false
   },
   "outputs": [
    {
     "data": {
      "text/plain": [
       "MLPRegressor(activation='relu', alpha=0.0001, batch_size='auto', beta_1=0.9,\n",
       "       beta_2=0.999, early_stopping=False, epsilon=1e-08,\n",
       "       hidden_layer_sizes=(10, 10, 10), learning_rate='constant',\n",
       "       learning_rate_init=0.001, max_iter=200, momentum=0.9,\n",
       "       nesterovs_momentum=True, power_t=0.5, random_state=None,\n",
       "       shuffle=True, solver='sgd', tol=0.0001, validation_fraction=0.1,\n",
       "       verbose=False, warm_start=False)"
      ]
     },
     "execution_count": 31,
     "metadata": {},
     "output_type": "execute_result"
    },
    {
     "name": "stdout",
     "output_type": "stream",
     "text": [
      "Mean squared error: 31245645616838468735955854012748219577898902136905559186792905501493644684029526540288.00\n",
      "Variance score: -13607466897075397713400359732105070271955191808193724173795932160014403561033808008303216093148374795998766323307731280288846412359596970232282702841382568415895486464.00\n"
     ]
    },
    {
     "data": {
      "text/plain": [
       "<matplotlib.collections.PathCollection at 0x7f284b3c8400>"
      ]
     },
     "execution_count": 31,
     "metadata": {},
     "output_type": "execute_result"
    },
    {
     "data": {
      "image/png": "[encoded data removed]",
      "text/plain": [
       "<matplotlib.figure.Figure at 0x7f284b3f9ba8>"
      ]
     },
     "metadata": {},
     "output_type": "display_data"
    }
   ],
   "source": [
    "from sklearn.neural_network import MLPRegressor \n",
    "\n",
    "reg = MLPRegressor(hidden_layer_sizes = (10, 10,10, ), solver = 'sgd')\n",
    "\n",
    "reg.fit(Xtrain, yTrain)\n",
    "\n",
    "# The coefficients\n",
    "#print('Coefficients: \\n', regr.coef_)\n",
    "\n",
    "# The mean squared error\n",
    "print(\"Mean squared error: %.2f\"\n",
    "      % np.mean((reg.predict(Xtrain) - yTrain) ** 2) ** 0.5)\n",
    "\n",
    "# Explained variance score: 1 is perfect prediction\n",
    "print('Variance score: %.2f' % reg.score(Xtrain, yTrain))\n",
    "\n",
    "# Plot outputs\n",
    "plt.scatter(yTrain, reg.predict(Xtrain), color='blue')\n",
    "\n",
    "plt.show()"
   ]
  },
  {
   "cell_type": "code",
   "execution_count": 164,
   "metadata": {
    "collapsed": false,
    "deletable": true,
    "editable": true,
    "scrolled": true
   },
   "outputs": [
    {
     "name": "stdout",
     "output_type": "stream",
     "text": [
      "Variance score: 0.47\n"
     ]
    },
    {
     "data": {
      "text/plain": [
       "<matplotlib.collections.PathCollection at 0x7f323777feb8>"
      ]
     },
     "execution_count": 164,
     "metadata": {},
     "output_type": "execute_result"
    },
    {
     "data": {
      "image/png": "[encoded data removed]",
      "text/plain": [
       "<matplotlib.figure.Figure at 0x7f32378c6f60>"
      ]
     },
     "metadata": {},
     "output_type": "display_data"
    }
   ],
   "source": [
    "from sklearn.externals import joblib\n",
    "#joblib.dump(regr, 'lr_medium_values.pkl', compress=9)\n",
    "\n",
    "model_clone = regr\n",
    "#model_clone = joblib.load('lr_medium_values.pkl')\n",
    "\n",
    "# Explained variance score: 1 is perfect prediction\n",
    "print('Variance score: %.2f' % model_clone.score(Xtest, yTest))\n",
    "plt.scatter(yTest, model_clone.predict(Xtest), color='blue')\n",
    "plt.show()"
   ]
  },
  {
   "cell_type": "code",
   "execution_count": 165,
   "metadata": {
    "collapsed": false,
    "deletable": true,
    "editable": true
   },
   "outputs": [
    {
     "data": {
      "text/plain": [
       "['plant.Watering.data/linreg_med_5deg.pkl']"
      ]
     },
     "execution_count": 165,
     "metadata": {},
     "output_type": "execute_result"
    }
   ],
   "source": [
    "#Save the model\n",
    "#joblib.dump(regr, 'plant.Watering.data/linreg_med_5deg.pkl')"
   ]
  },
  {
   "cell_type": "markdown",
   "metadata": {
    "deletable": true,
    "editable": true
   },
   "source": [
    "#### Port your model to other languages\n",
    "Very good source for porting pkl (Pickle) Files to other langauges\n",
    "https://github.com/nok/sklearn-porter"
   ]
  },
  {
   "cell_type": "markdown",
   "metadata": {
    "collapsed": true,
    "deletable": true,
    "editable": true
   },
   "source": [
    "### Should I give some water or not (logistic regression)"
   ]
  },
  {
   "cell_type": "code",
   "execution_count": 60,
   "metadata": {
    "collapsed": false,
    "deletable": true,
    "editable": true,
    "scrolled": false
   },
   "outputs": [
    {
     "ename": "ValueError",
     "evalue": "This solver needs samples of at least 2 classes in the data, but the data contains only one class: 1.0",
     "output_type": "error",
     "traceback": [
      "\u001b[0;31m---------------------------------------------------------------------------\u001b[0m",
      "\u001b[0;31mValueError\u001b[0m                                Traceback (most recent call last)",
      "\u001b[0;32m<ipython-input-60-c1e58bc245c3>\u001b[0m in \u001b[0;36m<module>\u001b[0;34m()\u001b[0m\n\u001b[1;32m     17\u001b[0m \u001b[0mmodel\u001b[0m \u001b[0;34m=\u001b[0m \u001b[0mLogisticRegression\u001b[0m\u001b[0;34m(\u001b[0m\u001b[0;34m)\u001b[0m\u001b[0;34m\u001b[0m\u001b[0m\n\u001b[1;32m     18\u001b[0m \u001b[0;34m\u001b[0m\u001b[0m\n\u001b[0;32m---> 19\u001b[0;31m \u001b[0mmodel\u001b[0m \u001b[0;34m=\u001b[0m \u001b[0mmodel\u001b[0m\u001b[0;34m.\u001b[0m\u001b[0mfit\u001b[0m\u001b[0;34m(\u001b[0m\u001b[0mX\u001b[0m\u001b[0;34m,\u001b[0m \u001b[0my\u001b[0m\u001b[0;34m)\u001b[0m\u001b[0;34m\u001b[0m\u001b[0m\n\u001b[0m\u001b[1;32m     20\u001b[0m \u001b[0;34m\u001b[0m\u001b[0m\n\u001b[1;32m     21\u001b[0m \u001b[0;31m# check the accuracy on the training set\u001b[0m\u001b[0;34m\u001b[0m\u001b[0;34m\u001b[0m\u001b[0m\n",
      "\u001b[0;32m/usr/local/lib/python3.4/dist-packages/sklearn/linear_model/logistic.py\u001b[0m in \u001b[0;36mfit\u001b[0;34m(self, X, y, sample_weight)\u001b[0m\n\u001b[1;32m   1184\u001b[0m                 \u001b[0mself\u001b[0m\u001b[0;34m.\u001b[0m\u001b[0mclass_weight\u001b[0m\u001b[0;34m,\u001b[0m \u001b[0mself\u001b[0m\u001b[0;34m.\u001b[0m\u001b[0mpenalty\u001b[0m\u001b[0;34m,\u001b[0m \u001b[0mself\u001b[0m\u001b[0;34m.\u001b[0m\u001b[0mdual\u001b[0m\u001b[0;34m,\u001b[0m \u001b[0mself\u001b[0m\u001b[0;34m.\u001b[0m\u001b[0mverbose\u001b[0m\u001b[0;34m,\u001b[0m\u001b[0;34m\u001b[0m\u001b[0m\n\u001b[1;32m   1185\u001b[0m                 \u001b[0mself\u001b[0m\u001b[0;34m.\u001b[0m\u001b[0mmax_iter\u001b[0m\u001b[0;34m,\u001b[0m \u001b[0mself\u001b[0m\u001b[0;34m.\u001b[0m\u001b[0mtol\u001b[0m\u001b[0;34m,\u001b[0m \u001b[0mself\u001b[0m\u001b[0;34m.\u001b[0m\u001b[0mrandom_state\u001b[0m\u001b[0;34m,\u001b[0m\u001b[0;34m\u001b[0m\u001b[0m\n\u001b[0;32m-> 1186\u001b[0;31m                 sample_weight=sample_weight)\n\u001b[0m\u001b[1;32m   1187\u001b[0m             \u001b[0mself\u001b[0m\u001b[0;34m.\u001b[0m\u001b[0mn_iter_\u001b[0m \u001b[0;34m=\u001b[0m \u001b[0mnp\u001b[0m\u001b[0;34m.\u001b[0m\u001b[0marray\u001b[0m\u001b[0;34m(\u001b[0m\u001b[0;34m[\u001b[0m\u001b[0mn_iter_\u001b[0m\u001b[0;34m]\u001b[0m\u001b[0;34m)\u001b[0m\u001b[0;34m\u001b[0m\u001b[0m\n\u001b[1;32m   1188\u001b[0m             \u001b[0;32mreturn\u001b[0m \u001b[0mself\u001b[0m\u001b[0;34m\u001b[0m\u001b[0m\n",
      "\u001b[0;32m/usr/local/lib/python3.4/dist-packages/sklearn/svm/base.py\u001b[0m in \u001b[0;36m_fit_liblinear\u001b[0;34m(X, y, C, fit_intercept, intercept_scaling, class_weight, penalty, dual, verbose, max_iter, tol, random_state, multi_class, loss, epsilon, sample_weight)\u001b[0m\n\u001b[1;32m    873\u001b[0m             raise ValueError(\"This solver needs samples of at least 2 classes\"\n\u001b[1;32m    874\u001b[0m                              \u001b[0;34m\" in the data, but the data contains only one\"\u001b[0m\u001b[0;34m\u001b[0m\u001b[0m\n\u001b[0;32m--> 875\u001b[0;31m                              \" class: %r\" % classes_[0])\n\u001b[0m\u001b[1;32m    876\u001b[0m \u001b[0;34m\u001b[0m\u001b[0m\n\u001b[1;32m    877\u001b[0m         \u001b[0mclass_weight_\u001b[0m \u001b[0;34m=\u001b[0m \u001b[0mcompute_class_weight\u001b[0m\u001b[0;34m(\u001b[0m\u001b[0mclass_weight\u001b[0m\u001b[0;34m,\u001b[0m \u001b[0mclasses_\u001b[0m\u001b[0;34m,\u001b[0m \u001b[0my\u001b[0m\u001b[0;34m)\u001b[0m\u001b[0;34m\u001b[0m\u001b[0m\n",
      "\u001b[0;31mValueError\u001b[0m: This solver needs samples of at least 2 classes in the data, but the data contains only one class: 1.0"
     ]
    }
   ],
   "source": [
    "l_DataSet = r_DataSet\n",
    "l_DataSet.loc[r_DataSet.Value < 100, \"Value\"] = 0\n",
    "l_DataSet.loc[r_DataSet.Value >= 100, \"Value\"] = 1\n",
    "\n",
    "l_TrainSet = l_DataSet.sample(frac=0.6, replace=True)\n",
    "l_TestSet = l_DataSet.sample(frac=1, replace=True)\n",
    "\n",
    "\n",
    "\n",
    "X = l_TrainSet.loc[:,\"tre200b0\":]\n",
    "X = PolynomialFeatures(degree=3).fit_transform(X).astype(int)\n",
    "\n",
    "y = l_TrainSet.Value\n",
    "\n",
    "from sklearn.linear_model import LogisticRegression\n",
    "# instantiate a logistic regression model, and fit with X and y\n",
    "model = LogisticRegression()\n",
    "\n",
    "model = model.fit(X, y)\n",
    "\n",
    "# check the accuracy on the training set\n",
    "model = model.score(PolynomialFeatures(degree=3).\n",
    "            fit_transform(X, y))\n"
   ]
  },
  {
   "cell_type": "code",
   "execution_count": null,
   "metadata": {
    "collapsed": false,
    "deletable": true,
    "editable": true
   },
   "outputs": [],
   "source": [
    "# The coefficients\n",
    "#print('Coefficients: \\n', model.coef_)\n",
    "\n",
    "r = (model.predict(PolynomialFeatures(degree=3).\n",
    "              fit_transform(l_TestSet.loc[:,\"tre200b0\":]).\n",
    "              astype(int)) - l_TestSet.Value) ** 2\n",
    "\n",
    "r.sum()"
   ]
  },
  {
   "cell_type": "code",
   "execution_count": null,
   "metadata": {
    "collapsed": false,
    "deletable": true,
    "editable": true
   },
   "outputs": [],
   "source": [
    "r = (model.predict(PolynomialFeatures(degree=3).\n",
    "              fit_transform(l_TestSet.loc[:,\"tre200b0\":]).\n",
    "              astype(int)) - l_TestSet.Value) ** 2"
   ]
  }
 ],
 "metadata": {
  "celltoolbar": "Edit Metadata",
  "kernelspec": {
   "display_name": "Python 3",
   "language": "python",
   "name": "python3"
  },
  "language_info": {
   "codemirror_mode": {
    "name": "ipython",
    "version": 3
   },
   "file_extension": ".py",
   "mimetype": "text/x-python",
   "name": "python",
   "nbconvert_exporter": "python",
   "pygments_lexer": "ipython3",
   "version": "3.4.2"
  }
 },
 "nbformat": 4,
 "nbformat_minor": 2
}
