{
 "cells": [
  {
   "cell_type": "markdown",
   "metadata": {
    "deletable": true,
    "editable": true
   },
   "source": [
    "# plant.Watering Logistic Regression"
   ]
  },
  {
   "cell_type": "markdown",
   "metadata": {
    "deletable": true,
    "editable": true
   },
   "source": [
    "## Problem Statement\n",
    "We should say should the water pump stay off, turn on for medium (480s) or should it turn full (960s)"
   ]
  },
  {
   "cell_type": "markdown",
   "metadata": {
    "deletable": true,
    "editable": true
   },
   "source": [
    "## Import all libraries"
   ]
  },
  {
   "cell_type": "code",
   "execution_count": 2,
   "metadata": {
    "collapsed": false,
    "deletable": true,
    "editable": true
   },
   "outputs": [],
   "source": [
    "# Show Plot immedeately\n",
    "%matplotlib inline \n",
    "\n",
    "from scipy import stats\n",
    "import numpy as np\n",
    "from matplotlib import pyplot as plt\n",
    "import pymysql.cursors\n",
    "import pandas as pd\n",
    "from datetime import datetime\n",
    "from sklearn import linear_model"
   ]
  },
  {
   "cell_type": "markdown",
   "metadata": {
    "deletable": true,
    "editable": true
   },
   "source": [
    "## Import DataSet"
   ]
  },
  {
   "cell_type": "code",
   "execution_count": 3,
   "metadata": {
    "collapsed": false,
    "deletable": true,
    "editable": true,
    "scrolled": false
   },
   "outputs": [],
   "source": [
    "r_DataSet = pd.read_csv(\"plant.Watering.data/DataSet.csv\")"
   ]
  },
  {
   "cell_type": "markdown",
   "metadata": {
    "deletable": true,
    "editable": true
   },
   "source": [
    "## Variables\n",
    "\n",
    "Variable | Description\n",
    "------------- |-------------|\n",
    "Date          |   29 non-null object\n",
    "Value         |   Pump Duration (predicted variable)29 non-null float64\n",
    "Time          |   29 non-null object\n",
    "DateTime_x    |   29 non-null object\n",
    "DateTime_y    |   29 non-null object\n",
    "tre200b0      |   Lufttemperatur 2 m über Boden; Stundenmittel 24h ago °C (tre200b0)\n",
    "ure200b0      |   Relative Luftfeuchtigkeit 2 m über Boden; Stundenmittel 24h ago % (ure200b0)\n",
    "rre150b0      |   Niederschlag; Stundensumme 24h ago mm (rre150b0)\n",
    "sre000b0      |   Sonnenscheindauer; Stundensumme 24h ago min (sre000b0)\n",
    "fu3010b0      |   Windgeschwindigkeit skalar; Stundenmittel 24h ago km/h (fu3010b0)\n",
    "prestab0      |   24h-Mean Luftdruck auf Stationshöhe (QFE); Stundenmittel (from -48h to -24h) hPa (prestab0)\n",
    "tre200b0_mean |   24h-Mean Lufttemperatur 2 m über Boden; Stundenmittel (from -48h to -24h) °C (tre200b0)\n",
    "ure200b0_mean |  24h-Mean Relative Luftfeuchtigkeit 2 m über Boden; Stundenmittel (from -48h to -24h) % (ure200b0)\n",
    "rre150b0_sum  |   24h-Summe Niederschlag; Stundensumme (from -48h to -24h) mm (rre150b0)\n",
    "sre000b0_sum  |  24h-Summe Sonnenscheindauer; Stundensumme (from -48h to -24h) min (sre000b0)\n",
    "fu3010b0_mean |   24h-Mean Windgeschwindigkeit skalar; Stundenmittel (from -48h to -24h) km/h (fu3010b0)\n",
    "prestab0_mean |   24h-Mean Luftdruck auf Stationshöhe (QFE); Stundenmittel (from -48h to -24h) hPa (prestab0)"
   ]
  },
  {
   "cell_type": "code",
   "execution_count": 4,
   "metadata": {
    "collapsed": false,
    "deletable": true,
    "editable": true,
    "scrolled": true
   },
   "outputs": [
    {
     "name": "stdout",
     "output_type": "stream",
     "text": [
      "<class 'pandas.core.frame.DataFrame'>\n",
      "RangeIndex: 94 entries, 0 to 93\n",
      "Data columns (total 14 columns):\n",
      "Date             94 non-null object\n",
      "Value            94 non-null float64\n",
      "tre200b0         94 non-null float64\n",
      "ure200b0         94 non-null float64\n",
      "rre150b0         94 non-null float64\n",
      "sre000b0         94 non-null float64\n",
      "fu3010b0         94 non-null float64\n",
      "prestab0         94 non-null float64\n",
      "tre200b0_mean    94 non-null float64\n",
      "ure200b0_mean    94 non-null float64\n",
      "rre150b0_sum     94 non-null float64\n",
      "sre000b0_sum     94 non-null float64\n",
      "fu3010b0_mean    94 non-null float64\n",
      "prestab0_mean    94 non-null float64\n",
      "dtypes: float64(13), object(1)\n",
      "memory usage: 10.4+ KB\n"
     ]
    }
   ],
   "source": [
    "# Print more than one variable\n",
    "from IPython.core.interactiveshell import InteractiveShell\n",
    "InteractiveShell.ast_node_interactivity = \"all\"\n",
    "\n",
    "r_DataSet.info()"
   ]
  },
  {
   "cell_type": "markdown",
   "metadata": {
    "deletable": true,
    "editable": true
   },
   "source": [
    "## Prepare DataSet\n",
    "- Pump Log longer than 600s. -> Full Throttle\n",
    "- Pump Log less than 600s, but more than 100s. -> Turn On\n",
    "- Pump Log less than 100s -> Do not pump!"
   ]
  },
  {
   "cell_type": "code",
   "execution_count": 5,
   "metadata": {
    "collapsed": false,
    "deletable": true,
    "editable": true
   },
   "outputs": [
    {
     "name": "stdout",
     "output_type": "stream",
     "text": [
      "<class 'pandas.core.frame.DataFrame'>\n",
      "RangeIndex: 94 entries, 0 to 93\n",
      "Data columns (total 15 columns):\n",
      "Class            94 non-null object\n",
      "Date             94 non-null object\n",
      "Value            94 non-null float64\n",
      "tre200b0         94 non-null float64\n",
      "ure200b0         94 non-null float64\n",
      "rre150b0         94 non-null float64\n",
      "sre000b0         94 non-null float64\n",
      "fu3010b0         94 non-null float64\n",
      "prestab0         94 non-null float64\n",
      "tre200b0_mean    94 non-null float64\n",
      "ure200b0_mean    94 non-null float64\n",
      "rre150b0_sum     94 non-null float64\n",
      "sre000b0_sum     94 non-null float64\n",
      "fu3010b0_mean    94 non-null float64\n",
      "prestab0_mean    94 non-null float64\n",
      "dtypes: float64(13), object(2)\n",
      "memory usage: 11.1+ KB\n"
     ]
    }
   ],
   "source": [
    "r_DataSet.insert(0,\"Class\",\"\",allow_duplicates=False)\n",
    "r_DataSet.loc[(r_DataSet.Value < 100), \"Class\"] = 'Off'\n",
    "\n",
    "r_DataSet.loc[(r_DataSet.Value > 100) & (r_DataSet.Value < 800), \"Class\"] = 'Med'\n",
    "r_DataSet.loc[(r_DataSet.Value > 600), \"Class\"] = 'High'\n",
    "\n",
    "r_DataSet.info()"
   ]
  },
  {
   "cell_type": "markdown",
   "metadata": {
    "deletable": true,
    "editable": true
   },
   "source": [
    "## Logistic Regression"
   ]
  },
  {
   "cell_type": "markdown",
   "metadata": {
    "deletable": true,
    "editable": true
   },
   "source": [
    "### Divide DataSet into TrainingSet (60%) and TestSet (100%) and Define Training Variable (y) and Explanation Variables (X)"
   ]
  },
  {
   "cell_type": "code",
   "execution_count": 6,
   "metadata": {
    "collapsed": false,
    "deletable": true,
    "editable": true
   },
   "outputs": [],
   "source": [
    "p_TrainSet = r_DataSet.sample(frac=0.6, replace=True) #60% of Data\n",
    "p_TestSet = r_DataSet.sample(frac=1, replace=True) #100% of Data\n",
    "\n",
    "yTrain = p_TrainSet.Class\n",
    "yTest = p_TestSet.Class\n",
    "\n",
    "Xtrain = p_TrainSet.loc[:,\"tre200b0\":]\n",
    "# Test Model, get X and y from TestSet\n",
    "Xtest = p_TestSet.loc[:,\"tre200b0\":]"
   ]
  },
  {
   "cell_type": "markdown",
   "metadata": {
    "deletable": true,
    "editable": true
   },
   "source": [
    "### Poly Features"
   ]
  },
  {
   "cell_type": "code",
   "execution_count": 7,
   "metadata": {
    "collapsed": false,
    "deletable": true,
    "editable": true
   },
   "outputs": [
    {
     "data": {
      "text/plain": [
       "LabelEncoder()"
      ]
     },
     "execution_count": 7,
     "metadata": {},
     "output_type": "execute_result"
    },
    {
     "data": {
      "text/plain": [
       "['plant.Watering.data/leModel.pkl']"
      ]
     },
     "execution_count": 7,
     "metadata": {},
     "output_type": "execute_result"
    },
    {
     "data": {
      "text/plain": [
       "array([1, 0, 1, 0, 1, 1, 1, 0, 0, 1, 0, 1, 1, 0, 2, 2, 1, 1, 1, 0, 2, 0, 1,\n",
       "       1, 2, 0, 2, 0, 0, 1, 2, 1, 1, 1, 1, 0, 0, 1, 1, 0, 2, 1, 0, 1, 1, 0,\n",
       "       2, 1, 1, 1, 1, 0, 2, 0, 1, 0, 2, 1, 1, 1, 0, 1, 0, 0, 0, 1, 1, 1, 1,\n",
       "       1, 0, 1, 1, 2, 0, 1, 0, 0, 1, 1, 1, 1, 0, 1, 0, 1, 1, 2, 1, 0, 1, 0,\n",
       "       0, 1])"
      ]
     },
     "execution_count": 7,
     "metadata": {},
     "output_type": "execute_result"
    }
   ],
   "source": [
    "from sklearn.preprocessing import PolynomialFeatures\n",
    "\n",
    "polyDegree = 5\n",
    "Xtrain = PolynomialFeatures(degree=polyDegree).fit_transform(Xtrain).astype(int)\n",
    "Xtest = PolynomialFeatures(degree=polyDegree).fit_transform(Xtest).astype(int)\n",
    "\n",
    "from sklearn import preprocessing\n",
    "le = preprocessing.LabelEncoder()\n",
    "le.fit(yTest)\n",
    "#--- Save Label Encoder Model\n",
    "from sklearn.externals import joblib\n",
    "joblib.dump(le, 'plant.Watering.data/leModel.pkl')\n",
    "\n",
    "\n",
    "yTrain = le.transform(yTrain)\n",
    "yTest = le.transform(yTest)\n",
    "\n",
    "yTest\n"
   ]
  },
  {
   "cell_type": "markdown",
   "metadata": {
    "deletable": true,
    "editable": true
   },
   "source": [
    "### Train Linear Regression and Set Train Variables"
   ]
  },
  {
   "cell_type": "code",
   "execution_count": 164,
   "metadata": {
    "collapsed": false,
    "deletable": true,
    "editable": true,
    "scrolled": false
   },
   "outputs": [
    {
     "data": {
      "text/plain": [
       "LogisticRegression(C=1.0, class_weight=None, dual=False, fit_intercept=True,\n",
       "          intercept_scaling=1, max_iter=100, multi_class='ovr', n_jobs=1,\n",
       "          penalty='l2', random_state=None, solver='liblinear', tol=0.0001,\n",
       "          verbose=0, warm_start=False)"
      ]
     },
     "execution_count": 164,
     "metadata": {},
     "output_type": "execute_result"
    },
    {
     "name": "stdout",
     "output_type": "stream",
     "text": [
      "Mean squared error: 0.00\n",
      "Variance score: 1.00\n"
     ]
    },
    {
     "data": {
      "text/plain": [
       "<matplotlib.collections.PathCollection at 0x7f9d46585630>"
      ]
     },
     "execution_count": 164,
     "metadata": {},
     "output_type": "execute_result"
    },
    {
     "data": {
      "image/png": "[encoded data removed]",
      "text/plain": [
       "<matplotlib.figure.Figure at 0x7f9d4661e4a8>"
      ]
     },
     "metadata": {},
     "output_type": "display_data"
    }
   ],
   "source": [
    "regr = linear_model.LogisticRegression()\n",
    "regr.fit(X = Xtrain, y = yTrain)\n",
    "\n",
    "# The coefficients\n",
    "#print('Coefficients: \\n', regr.coef_)\n",
    "\n",
    "# The mean squared error\n",
    "print(\"Mean squared error: %.2f\"\n",
    "      % np.mean((regr.predict(Xtrain) - yTrain) ** 2) ** 0.5)\n",
    "\n",
    "# Explained variance score: 1 is perfect prediction\n",
    "print('Variance score: %.2f' % regr.score(Xtrain, yTrain))\n",
    "\n",
    "# Plot outputs\n",
    "plt.scatter(yTrain, regr.predict(Xtrain), color='blue')\n",
    "\n",
    "plt.show()"
   ]
  },
  {
   "cell_type": "code",
   "execution_count": 165,
   "metadata": {
    "collapsed": false,
    "deletable": true,
    "editable": true,
    "scrolled": true
   },
   "outputs": [
    {
     "name": "stdout",
     "output_type": "stream",
     "text": [
      "Variance score: 0.74\n"
     ]
    }
   ],
   "source": [
    "#from sklearn.externals import joblib\n",
    "#joblib.dump(regr, 'lr_medium_values.pkl', compress=9)\n",
    "\n",
    "model_clone = regr\n",
    "#model_clone = joblib.load('lr_medium_values.pkl')\n",
    "\n",
    "# Explained variance score: 1 is perfect prediction\n",
    "print('Variance score: %.2f' % model_clone.score(Xtest, yTest))\n"
   ]
  },
  {
   "cell_type": "code",
   "execution_count": 166,
   "metadata": {
    "collapsed": false,
    "deletable": true,
    "editable": true
   },
   "outputs": [
    {
     "data": {
      "text/html": [
       "<div>\n",
       "<table border=\"1\" class=\"dataframe\">\n",
       "  <thead>\n",
       "    <tr style=\"text-align: right;\">\n",
       "      <th></th>\n",
       "      <th>0</th>\n",
       "      <th>1</th>\n",
       "      <th>2</th>\n",
       "      <th>3</th>\n",
       "      <th>4</th>\n",
       "      <th>5</th>\n",
       "      <th>6</th>\n",
       "      <th>7</th>\n",
       "      <th>8</th>\n",
       "      <th>9</th>\n",
       "      <th>...</th>\n",
       "      <th>84</th>\n",
       "      <th>85</th>\n",
       "      <th>86</th>\n",
       "      <th>87</th>\n",
       "      <th>88</th>\n",
       "      <th>89</th>\n",
       "      <th>90</th>\n",
       "      <th>91</th>\n",
       "      <th>92</th>\n",
       "      <th>93</th>\n",
       "    </tr>\n",
       "  </thead>\n",
       "  <tbody>\n",
       "    <tr>\n",
       "      <th>0</th>\n",
       "      <td>High</td>\n",
       "      <td>Med</td>\n",
       "      <td>Off</td>\n",
       "      <td>High</td>\n",
       "      <td>Med</td>\n",
       "      <td>Med</td>\n",
       "      <td>High</td>\n",
       "      <td>High</td>\n",
       "      <td>High</td>\n",
       "      <td>Med</td>\n",
       "      <td>...</td>\n",
       "      <td>Med</td>\n",
       "      <td>Med</td>\n",
       "      <td>Med</td>\n",
       "      <td>High</td>\n",
       "      <td>Med</td>\n",
       "      <td>Med</td>\n",
       "      <td>High</td>\n",
       "      <td>Off</td>\n",
       "      <td>Med</td>\n",
       "      <td>Off</td>\n",
       "    </tr>\n",
       "    <tr>\n",
       "      <th>1</th>\n",
       "      <td>High</td>\n",
       "      <td>Med</td>\n",
       "      <td>Med</td>\n",
       "      <td>Med</td>\n",
       "      <td>Med</td>\n",
       "      <td>Med</td>\n",
       "      <td>High</td>\n",
       "      <td>Med</td>\n",
       "      <td>High</td>\n",
       "      <td>Off</td>\n",
       "      <td>...</td>\n",
       "      <td>Med</td>\n",
       "      <td>Med</td>\n",
       "      <td>Med</td>\n",
       "      <td>High</td>\n",
       "      <td>Med</td>\n",
       "      <td>High</td>\n",
       "      <td>High</td>\n",
       "      <td>Off</td>\n",
       "      <td>Med</td>\n",
       "      <td>Off</td>\n",
       "    </tr>\n",
       "  </tbody>\n",
       "</table>\n",
       "<p>2 rows × 94 columns</p>\n",
       "</div>"
      ],
      "text/plain": [
       "     0    1    2     3    4    5     6     7     8    9  ...    84   85   86  \\\n",
       "0  High  Med  Off  High  Med  Med  High  High  High  Med ...   Med  Med  Med   \n",
       "1  High  Med  Med   Med  Med  Med  High   Med  High  Off ...   Med  Med  Med   \n",
       "\n",
       "     87   88    89    90   91   92   93  \n",
       "0  High  Med   Med  High  Off  Med  Off  \n",
       "1  High  Med  High  High  Off  Med  Off  \n",
       "\n",
       "[2 rows x 94 columns]"
      ]
     },
     "execution_count": 166,
     "metadata": {},
     "output_type": "execute_result"
    }
   ],
   "source": [
    "pd.DataFrame([le.inverse_transform(yTest), le.inverse_transform(model_clone.predict(Xtest))])"
   ]
  },
  {
   "cell_type": "code",
   "execution_count": 173,
   "metadata": {
    "collapsed": false,
    "deletable": true,
    "editable": true
   },
   "outputs": [
    {
     "data": {
      "text/html": [
       "<div>\n",
       "<table border=\"1\" class=\"dataframe\">\n",
       "  <thead>\n",
       "    <tr style=\"text-align: right;\">\n",
       "      <th></th>\n",
       "      <th>Class</th>\n",
       "      <th>Date</th>\n",
       "      <th>Value</th>\n",
       "      <th>tre200b0</th>\n",
       "      <th>ure200b0</th>\n",
       "      <th>rre150b0</th>\n",
       "      <th>sre000b0</th>\n",
       "      <th>fu3010b0</th>\n",
       "      <th>prestab0</th>\n",
       "      <th>tre200b0_mean</th>\n",
       "      <th>ure200b0_mean</th>\n",
       "      <th>rre150b0_sum</th>\n",
       "      <th>sre000b0_sum</th>\n",
       "      <th>fu3010b0_mean</th>\n",
       "      <th>prestab0_mean</th>\n",
       "    </tr>\n",
       "  </thead>\n",
       "  <tbody>\n",
       "    <tr>\n",
       "      <th>14</th>\n",
       "      <td>High</td>\n",
       "      <td>2014-06-19</td>\n",
       "      <td>960.0</td>\n",
       "      <td>21.1</td>\n",
       "      <td>49.2</td>\n",
       "      <td>0.0</td>\n",
       "      <td>6.0</td>\n",
       "      <td>13.7</td>\n",
       "      <td>959.7</td>\n",
       "      <td>17.475</td>\n",
       "      <td>63.0375</td>\n",
       "      <td>1.243450e-14</td>\n",
       "      <td>688.0</td>\n",
       "      <td>6.266667</td>\n",
       "      <td>960.329167</td>\n",
       "    </tr>\n",
       "  </tbody>\n",
       "</table>\n",
       "</div>"
      ],
      "text/plain": [
       "   Class        Date  Value  tre200b0  ure200b0  rre150b0  sre000b0  fu3010b0  \\\n",
       "14  High  2014-06-19  960.0      21.1      49.2       0.0       6.0      13.7   \n",
       "\n",
       "    prestab0  tre200b0_mean  ure200b0_mean  rre150b0_sum  sre000b0_sum  \\\n",
       "14     959.7         17.475        63.0375  1.243450e-14         688.0   \n",
       "\n",
       "    fu3010b0_mean  prestab0_mean  \n",
       "14       6.266667     960.329167  "
      ]
     },
     "execution_count": 173,
     "metadata": {},
     "output_type": "execute_result"
    },
    {
     "data": {
      "text/plain": [
       "'High'"
      ]
     },
     "execution_count": 173,
     "metadata": {},
     "output_type": "execute_result"
    },
    {
     "data": {
      "text/plain": [
       "'High'"
      ]
     },
     "execution_count": 173,
     "metadata": {},
     "output_type": "execute_result"
    }
   ],
   "source": [
    "from IPython.core.interactiveshell import InteractiveShell\n",
    "InteractiveShell.ast_node_interactivity = \"all\"\n",
    "\n",
    "rowIdx = 87\n",
    "\n",
    "p_TestSet.iloc[[rowIdx]]\n",
    "le.inverse_transform(yTest[rowIdx])\n",
    "le.inverse_transform(model_clone.predict(Xtest)[rowIdx])"
   ]
  },
  {
   "cell_type": "code",
   "execution_count": 169,
   "metadata": {
    "collapsed": false,
    "deletable": true,
    "editable": true
   },
   "outputs": [
    {
     "data": {
      "text/plain": [
       "['plant.Watering.data/logreg_5deg.pkl']"
      ]
     },
     "execution_count": 169,
     "metadata": {},
     "output_type": "execute_result"
    }
   ],
   "source": [
    "#Save the model\n",
    "from sklearn.externals import joblib\n",
    "joblib.dump(regr, 'plant.Watering.data/logreg_5deg.pkl')"
   ]
  },
  {
   "cell_type": "markdown",
   "metadata": {
    "deletable": true,
    "editable": true
   },
   "source": [
    "#### Port your model to other languages\n",
    "Very good source for porting pkl (Pickle) Files to other langauges\n",
    "https://github.com/nok/sklearn-porter"
   ]
  }
 ],
 "metadata": {
  "celltoolbar": "Edit Metadata",
  "kernelspec": {
   "display_name": "Python 3",
   "language": "python",
   "name": "python3"
  },
  "language_info": {
   "codemirror_mode": {
    "name": "ipython",
    "version": 3
   },
   "file_extension": ".py",
   "mimetype": "text/x-python",
   "name": "python",
   "nbconvert_exporter": "python",
   "pygments_lexer": "ipython3",
   "version": "3.4.2"
  }
 },
 "nbformat": 4,
 "nbformat_minor": 2
}
