{
 "cells": [
  {
   "cell_type": "markdown",
   "metadata": {
    "deletable": true,
    "editable": true
   },
   "source": [
    "# Predict Water Amount Needed"
   ]
  },
  {
   "cell_type": "markdown",
   "metadata": {
    "deletable": true,
    "editable": true
   },
   "source": [
    "## Get and Prepare Weather Data from DataBase"
   ]
  },
  {
   "cell_type": "code",
   "execution_count": 11,
   "metadata": {
    "collapsed": false,
    "deletable": true,
    "editable": true
   },
   "outputs": [
    {
     "data": {
      "text/plain": [
       "144"
      ]
     },
     "execution_count": 11,
     "metadata": {},
     "output_type": "execute_result"
    }
   ],
   "source": [
    "import pymysql.cursors\n",
    "import pandas as pd\n",
    "import numpy as np\n",
    "\n",
    "connection = pymysql.connect(host = \"mikmak.cc\", user=\"sensor\", passwd=\"Gaffe2017\", db=\"weatherDW\")\n",
    "query = ('SELECT * FROM log_v_last24Hours WHERE S_Text <> \"None\"')\n",
    "\n",
    "with connection.cursor() as cursor:\n",
    "    cursor.execute(query)\n",
    "connection.commit()\n",
    "e_Log = cursor.fetchall()\n",
    "connection.close()\n",
    "\n",
    "e_Log = (np.array(e_Log))"
   ]
  },
  {
   "cell_type": "code",
   "execution_count": 12,
   "metadata": {
    "collapsed": false,
    "deletable": true,
    "editable": true
   },
   "outputs": [
    {
     "name": "stdout",
     "output_type": "stream",
     "text": [
      "<class 'pandas.core.frame.DataFrame'>\n",
      "DatetimeIndex: 25 entries, 2017-04-04 01:49:45 to 2017-04-05 00:49:50\n",
      "Data columns (total 6 columns):\n",
      "Humidity       24 non-null object\n",
      "Pressure       24 non-null object\n",
      "Rain           24 non-null object\n",
      "Sunshine       24 non-null object\n",
      "Temperature    24 non-null object\n",
      "Wind           23 non-null object\n",
      "dtypes: object(6)\n",
      "memory usage: 1.4+ KB\n"
     ]
    },
    {
     "data": {
      "text/html": [
       "<div>\n",
       "<table border=\"1\" class=\"dataframe\">\n",
       "  <thead>\n",
       "    <tr style=\"text-align: right;\">\n",
       "      <th>ID</th>\n",
       "      <th>Humidity</th>\n",
       "      <th>Pressure</th>\n",
       "      <th>Rain</th>\n",
       "      <th>Sunshine</th>\n",
       "      <th>Temperature</th>\n",
       "      <th>Wind</th>\n",
       "    </tr>\n",
       "    <tr>\n",
       "      <th>TimeStamp</th>\n",
       "      <th></th>\n",
       "      <th></th>\n",
       "      <th></th>\n",
       "      <th></th>\n",
       "      <th></th>\n",
       "      <th></th>\n",
       "    </tr>\n",
       "  </thead>\n",
       "  <tbody>\n",
       "    <tr>\n",
       "      <th>2017-04-04 01:49:45</th>\n",
       "      <td>83.0</td>\n",
       "      <td>964.8</td>\n",
       "      <td>0.0</td>\n",
       "      <td>0.0</td>\n",
       "      <td>10.9</td>\n",
       "      <td>4.0</td>\n",
       "    </tr>\n",
       "    <tr>\n",
       "      <th>2017-04-04 02:49:44</th>\n",
       "      <td>88.0</td>\n",
       "      <td>964.5</td>\n",
       "      <td>0.0</td>\n",
       "      <td>0.0</td>\n",
       "      <td>10.1</td>\n",
       "      <td>0.4</td>\n",
       "    </tr>\n",
       "    <tr>\n",
       "      <th>2017-04-04 03:49:45</th>\n",
       "      <td>83.0</td>\n",
       "      <td>964.2</td>\n",
       "      <td>0.0</td>\n",
       "      <td>0.0</td>\n",
       "      <td>10.5</td>\n",
       "      <td>2.9</td>\n",
       "    </tr>\n",
       "    <tr>\n",
       "      <th>2017-04-04 04:49:44</th>\n",
       "      <td>84.0</td>\n",
       "      <td>964.1</td>\n",
       "      <td>0.0</td>\n",
       "      <td>0.0</td>\n",
       "      <td>10.9</td>\n",
       "      <td>4.7</td>\n",
       "    </tr>\n",
       "    <tr>\n",
       "      <th>2017-04-04 05:49:44</th>\n",
       "      <td>90.0</td>\n",
       "      <td>964.2</td>\n",
       "      <td>0.1</td>\n",
       "      <td>0.0</td>\n",
       "      <td>10.1</td>\n",
       "      <td>5.4</td>\n",
       "    </tr>\n",
       "    <tr>\n",
       "      <th>2017-04-04 06:49:44</th>\n",
       "      <td>91.0</td>\n",
       "      <td>964.3</td>\n",
       "      <td>0.0</td>\n",
       "      <td>0.0</td>\n",
       "      <td>9.4</td>\n",
       "      <td>2.5</td>\n",
       "    </tr>\n",
       "    <tr>\n",
       "      <th>2017-04-04 07:49:45</th>\n",
       "      <td>90.0</td>\n",
       "      <td>964.5</td>\n",
       "      <td>0.0</td>\n",
       "      <td>0.0</td>\n",
       "      <td>9.7</td>\n",
       "      <td>1.8</td>\n",
       "    </tr>\n",
       "    <tr>\n",
       "      <th>2017-04-04 08:49:44</th>\n",
       "      <td>88.0</td>\n",
       "      <td>964.7</td>\n",
       "      <td>0.0</td>\n",
       "      <td>0.0</td>\n",
       "      <td>10.1</td>\n",
       "      <td>0.7</td>\n",
       "    </tr>\n",
       "    <tr>\n",
       "      <th>2017-04-04 09:49:47</th>\n",
       "      <td>85.0</td>\n",
       "      <td>964.6</td>\n",
       "      <td>0.0</td>\n",
       "      <td>8.0</td>\n",
       "      <td>11.4</td>\n",
       "      <td>5.8</td>\n",
       "    </tr>\n",
       "    <tr>\n",
       "      <th>2017-04-04 10:49:49</th>\n",
       "      <td>82.0</td>\n",
       "      <td>964.9</td>\n",
       "      <td>0.0</td>\n",
       "      <td>5.0</td>\n",
       "      <td>11.2</td>\n",
       "      <td>5.8</td>\n",
       "    </tr>\n",
       "    <tr>\n",
       "      <th>2017-04-04 11:49:47</th>\n",
       "      <td>70.0</td>\n",
       "      <td>964.8</td>\n",
       "      <td>0.0</td>\n",
       "      <td>7.0</td>\n",
       "      <td>13.0</td>\n",
       "      <td>7.9</td>\n",
       "    </tr>\n",
       "    <tr>\n",
       "      <th>2017-04-04 12:49:47</th>\n",
       "      <td>54.0</td>\n",
       "      <td>964.6</td>\n",
       "      <td>0.0</td>\n",
       "      <td>8.0</td>\n",
       "      <td>14.2</td>\n",
       "      <td>5.4</td>\n",
       "    </tr>\n",
       "    <tr>\n",
       "      <th>2017-04-04 13:49:47</th>\n",
       "      <td>54.0</td>\n",
       "      <td>964.3</td>\n",
       "      <td>0.0</td>\n",
       "      <td>2.0</td>\n",
       "      <td>14.0</td>\n",
       "      <td>3.2</td>\n",
       "    </tr>\n",
       "    <tr>\n",
       "      <th>2017-04-04 14:49:47</th>\n",
       "      <td>52.0</td>\n",
       "      <td>964.2</td>\n",
       "      <td>0.0</td>\n",
       "      <td>0.0</td>\n",
       "      <td>13.1</td>\n",
       "      <td>15.1</td>\n",
       "    </tr>\n",
       "    <tr>\n",
       "      <th>2017-04-04 15:49:49</th>\n",
       "      <td>51.0</td>\n",
       "      <td>964.3</td>\n",
       "      <td>0.0</td>\n",
       "      <td>0.0</td>\n",
       "      <td>12.3</td>\n",
       "      <td>10.8</td>\n",
       "    </tr>\n",
       "    <tr>\n",
       "      <th>2017-04-04 16:49:48</th>\n",
       "      <td>51.0</td>\n",
       "      <td>963.9</td>\n",
       "      <td>0.0</td>\n",
       "      <td>4.0</td>\n",
       "      <td>13.2</td>\n",
       "      <td>7.2</td>\n",
       "    </tr>\n",
       "    <tr>\n",
       "      <th>2017-04-04 18:49:49</th>\n",
       "      <td>51.0</td>\n",
       "      <td>963.7</td>\n",
       "      <td>0.0</td>\n",
       "      <td>0.0</td>\n",
       "      <td>12.9</td>\n",
       "      <td>4.3</td>\n",
       "    </tr>\n",
       "    <tr>\n",
       "      <th>2017-04-04 19:49:49</th>\n",
       "      <td>57.0</td>\n",
       "      <td>963.8</td>\n",
       "      <td>0.0</td>\n",
       "      <td>0.0</td>\n",
       "      <td>11.9</td>\n",
       "      <td>4.7</td>\n",
       "    </tr>\n",
       "    <tr>\n",
       "      <th>2017-04-04 20:49:47</th>\n",
       "      <td>62.0</td>\n",
       "      <td>963.9</td>\n",
       "      <td>0.0</td>\n",
       "      <td>0.0</td>\n",
       "      <td>11.1</td>\n",
       "      <td>1.4</td>\n",
       "    </tr>\n",
       "    <tr>\n",
       "      <th>2017-04-04 21:49:49</th>\n",
       "      <td>70.0</td>\n",
       "      <td>964.4</td>\n",
       "      <td>0.0</td>\n",
       "      <td>0.0</td>\n",
       "      <td>10.9</td>\n",
       "      <td>1.8</td>\n",
       "    </tr>\n",
       "    <tr>\n",
       "      <th>2017-04-04 22:49:51</th>\n",
       "      <td>69.0</td>\n",
       "      <td>964.9</td>\n",
       "      <td>0.0</td>\n",
       "      <td>0.0</td>\n",
       "      <td>10.0</td>\n",
       "      <td>2.9</td>\n",
       "    </tr>\n",
       "    <tr>\n",
       "      <th>2017-04-04 23:49:49</th>\n",
       "      <td>78.0</td>\n",
       "      <td>964.8</td>\n",
       "      <td>0.3</td>\n",
       "      <td>0.0</td>\n",
       "      <td>9.2</td>\n",
       "      <td>14.4</td>\n",
       "    </tr>\n",
       "  </tbody>\n",
       "</table>\n",
       "</div>"
      ],
      "text/plain": [
       "ID                   Humidity  Pressure  Rain  Sunshine  Temperature  Wind\n",
       "TimeStamp                                                                 \n",
       "2017-04-04 01:49:45      83.0     964.8   0.0       0.0         10.9   4.0\n",
       "2017-04-04 02:49:44      88.0     964.5   0.0       0.0         10.1   0.4\n",
       "2017-04-04 03:49:45      83.0     964.2   0.0       0.0         10.5   2.9\n",
       "2017-04-04 04:49:44      84.0     964.1   0.0       0.0         10.9   4.7\n",
       "2017-04-04 05:49:44      90.0     964.2   0.1       0.0         10.1   5.4\n",
       "2017-04-04 06:49:44      91.0     964.3   0.0       0.0          9.4   2.5\n",
       "2017-04-04 07:49:45      90.0     964.5   0.0       0.0          9.7   1.8\n",
       "2017-04-04 08:49:44      88.0     964.7   0.0       0.0         10.1   0.7\n",
       "2017-04-04 09:49:47      85.0     964.6   0.0       8.0         11.4   5.8\n",
       "2017-04-04 10:49:49      82.0     964.9   0.0       5.0         11.2   5.8\n",
       "2017-04-04 11:49:47      70.0     964.8   0.0       7.0         13.0   7.9\n",
       "2017-04-04 12:49:47      54.0     964.6   0.0       8.0         14.2   5.4\n",
       "2017-04-04 13:49:47      54.0     964.3   0.0       2.0         14.0   3.2\n",
       "2017-04-04 14:49:47      52.0     964.2   0.0       0.0         13.1  15.1\n",
       "2017-04-04 15:49:49      51.0     964.3   0.0       0.0         12.3  10.8\n",
       "2017-04-04 16:49:48      51.0     963.9   0.0       4.0         13.2   7.2\n",
       "2017-04-04 18:49:49      51.0     963.7   0.0       0.0         12.9   4.3\n",
       "2017-04-04 19:49:49      57.0     963.8   0.0       0.0         11.9   4.7\n",
       "2017-04-04 20:49:47      62.0     963.9   0.0       0.0         11.1   1.4\n",
       "2017-04-04 21:49:49      70.0     964.4   0.0       0.0         10.9   1.8\n",
       "2017-04-04 22:49:51      69.0     964.9   0.0       0.0         10.0   2.9\n",
       "2017-04-04 23:49:49      78.0     964.8   0.3       0.0          9.2  14.4"
      ]
     },
     "execution_count": 12,
     "metadata": {},
     "output_type": "execute_result"
    }
   ],
   "source": [
    "from IPython.core.interactiveshell import InteractiveShell\n",
    "InteractiveShell.ast_node_interactivity = \"all\"\n",
    "\n",
    "t_Log = e_Log\n",
    "\n",
    "t_Log = pd.DataFrame(data = t_Log[1:,:],\n",
    "                     index = t_Log[1:,2],\n",
    "                     columns =[\"ID\",\"Value\",\"TimeStamp\"] )\n",
    "\n",
    "\n",
    "t_Log = t_Log.pivot(index='TimeStamp', columns='ID', values='Value')\n",
    "\n",
    "t_Log.info()\n",
    "\n",
    "t_Log = t_Log.sort_index(ascending = True) #It should be ascending, for rolling calculation later\n",
    "t_Log = t_Log.astype(float)\n",
    "t_Log = t_Log.dropna(how = \"any\")\n",
    "\n",
    "t_Log"
   ]
  },
  {
   "cell_type": "markdown",
   "metadata": {
    "collapsed": true,
    "deletable": true,
    "editable": true
   },
   "source": [
    "## Transform Data into Input Vector"
   ]
  },
  {
   "cell_type": "markdown",
   "metadata": {
    "deletable": true,
    "editable": true
   },
   "source": [
    "### Order Data and Calculate Means and Sums"
   ]
  },
  {
   "cell_type": "code",
   "execution_count": 13,
   "metadata": {
    "collapsed": false
   },
   "outputs": [
    {
     "data": {
      "text/html": [
       "<div>\n",
       "<table border=\"1\" class=\"dataframe\">\n",
       "  <thead>\n",
       "    <tr style=\"text-align: right;\">\n",
       "      <th>TimeStamp</th>\n",
       "      <th>2017-04-04 23:49:49</th>\n",
       "    </tr>\n",
       "  </thead>\n",
       "  <tbody>\n",
       "    <tr>\n",
       "      <th>tre200b0</th>\n",
       "      <td>9.200000</td>\n",
       "    </tr>\n",
       "    <tr>\n",
       "      <th>ure200b0</th>\n",
       "      <td>78.000000</td>\n",
       "    </tr>\n",
       "    <tr>\n",
       "      <th>rre200b0</th>\n",
       "      <td>0.300000</td>\n",
       "    </tr>\n",
       "    <tr>\n",
       "      <th>sre000b0</th>\n",
       "      <td>0.000000</td>\n",
       "    </tr>\n",
       "    <tr>\n",
       "      <th>fu3010b0</th>\n",
       "      <td>14.400000</td>\n",
       "    </tr>\n",
       "    <tr>\n",
       "      <th>prestab0</th>\n",
       "      <td>964.800000</td>\n",
       "    </tr>\n",
       "    <tr>\n",
       "      <th>tre200b0_mean</th>\n",
       "      <td>11.368182</td>\n",
       "    </tr>\n",
       "    <tr>\n",
       "      <th>ure200b0_mean</th>\n",
       "      <td>71.954545</td>\n",
       "    </tr>\n",
       "    <tr>\n",
       "      <th>rre200b0_sum</th>\n",
       "      <td>0.400000</td>\n",
       "    </tr>\n",
       "    <tr>\n",
       "      <th>sre000b0_sum</th>\n",
       "      <td>34.000000</td>\n",
       "    </tr>\n",
       "    <tr>\n",
       "      <th>fu3010b0_mean</th>\n",
       "      <td>5.140909</td>\n",
       "    </tr>\n",
       "    <tr>\n",
       "      <th>prestab0_mean</th>\n",
       "      <td>964.381818</td>\n",
       "    </tr>\n",
       "  </tbody>\n",
       "</table>\n",
       "</div>"
      ],
      "text/plain": [
       "TimeStamp      2017-04-04 23:49:49\n",
       "tre200b0                  9.200000\n",
       "ure200b0                 78.000000\n",
       "rre200b0                  0.300000\n",
       "sre000b0                  0.000000\n",
       "fu3010b0                 14.400000\n",
       "prestab0                964.800000\n",
       "tre200b0_mean            11.368182\n",
       "ure200b0_mean            71.954545\n",
       "rre200b0_sum              0.400000\n",
       "sre000b0_sum             34.000000\n",
       "fu3010b0_mean             5.140909\n",
       "prestab0_mean           964.381818"
      ]
     },
     "execution_count": 13,
     "metadata": {},
     "output_type": "execute_result"
    }
   ],
   "source": [
    "X = pd.DataFrame()\n",
    "\n",
    "lastRow = len(t_Log.axes[0]) - 1\n",
    "\n",
    "X = X.assign(tre200b0=t_Log.Temperature[[lastRow]])\n",
    "X = X.assign(ure200b0=t_Log.Humidity[[lastRow]])\n",
    "X = X.assign(rre200b0=t_Log.Rain[[lastRow]])\n",
    "X = X.assign(sre000b0=t_Log.Sunshine[[lastRow]])\n",
    "X = X.assign(fu3010b0=t_Log.Wind[[lastRow]])\n",
    "X = X.assign(prestab0=t_Log.Pressure[[lastRow]])\n",
    "#\"tre200b0\",\"ure200b0\",\"rre150b0\",\"sre000b0\",\"fu3010b0\",\"prestab0\"\n",
    "\n",
    "t_LogRolling = t_Log.rolling(len(t_Log.axes[0]))\n",
    "\n",
    "X = X.assign(tre200b0_mean=t_LogRolling.Temperature.mean())\n",
    "X = X.assign(ure200b0_mean=t_LogRolling.Humidity.mean())\n",
    "X = X.assign(rre200b0_sum=t_LogRolling.Rain.sum())\n",
    "X = X.assign(sre000b0_sum=t_LogRolling.Sunshine.sum())\n",
    "X = X.assign(fu3010b0_mean=t_LogRolling.Wind.mean())\n",
    "X = X.assign(prestab0_mean=t_LogRolling.Pressure.mean())\n",
    "\n",
    "X.transpose()"
   ]
  },
  {
   "cell_type": "markdown",
   "metadata": {
    "deletable": true,
    "editable": true
   },
   "source": [
    "### Poly Features etc."
   ]
  },
  {
   "cell_type": "code",
   "execution_count": 14,
   "metadata": {
    "collapsed": false
   },
   "outputs": [
    {
     "data": {
      "text/plain": [
       "6188"
      ]
     },
     "execution_count": 14,
     "metadata": {},
     "output_type": "execute_result"
    },
    {
     "data": {
      "text/plain": [
       "array([[              1,               9,              78, ...,\n",
       "            23704286624,   4446681049857, 834151757968067]])"
      ]
     },
     "execution_count": 14,
     "metadata": {},
     "output_type": "execute_result"
    }
   ],
   "source": [
    "from IPython.core.interactiveshell import InteractiveShell\n",
    "InteractiveShell.ast_node_interactivity = \"all\"\n",
    "\n",
    "from sklearn.preprocessing import PolynomialFeatures\n",
    "\n",
    "polyDegree = 5\n",
    "poly = PolynomialFeatures(degree=polyDegree)\n",
    "X = poly.fit_transform(X).astype(int)\n",
    "\n",
    "poly.n_output_features_ \n",
    "\n",
    "X"
   ]
  },
  {
   "cell_type": "markdown",
   "metadata": {
    "deletable": true,
    "editable": true
   },
   "source": [
    "## Classify!\n",
    "Use Logistic Regression Modell to decide if \n",
    "- no water at all or \n",
    "- a lot of water or \n",
    "- normal amount of water\n",
    "is needed"
   ]
  },
  {
   "cell_type": "markdown",
   "metadata": {
    "deletable": true,
    "editable": true
   },
   "source": [
    "### Load Model"
   ]
  },
  {
   "cell_type": "code",
   "execution_count": 15,
   "metadata": {
    "collapsed": false
   },
   "outputs": [],
   "source": [
    "from sklearn.externals import joblib\n",
    "model = joblib.load('plant.Watering.data/logreg_5deg.pkl')"
   ]
  },
  {
   "cell_type": "markdown",
   "metadata": {
    "deletable": true,
    "editable": true
   },
   "source": [
    "### Do Calculation and Show Result\n",
    "- 0 - means a lot of water\n",
    "- 1 - is medium\n",
    "- 2 - device should stay off"
   ]
  },
  {
   "cell_type": "code",
   "execution_count": 17,
   "metadata": {
    "collapsed": false
   },
   "outputs": [
    {
     "data": {
      "text/plain": [
       "'Med'"
      ]
     },
     "execution_count": 17,
     "metadata": {},
     "output_type": "execute_result"
    }
   ],
   "source": [
    "result = model.predict(X)[0]\n",
    "\n",
    "from sklearn import preprocessing\n",
    "le = joblib.load('plant.Watering.data/leModel.pkl')\n",
    "le.inverse_transform(result)\n"
   ]
  },
  {
   "cell_type": "code",
   "execution_count": null,
   "metadata": {
    "collapsed": true
   },
   "outputs": [],
   "source": []
  }
 ],
 "metadata": {
  "kernelspec": {
   "display_name": "Python 3",
   "language": "python",
   "name": "python3"
  },
  "language_info": {
   "codemirror_mode": {
    "name": "ipython",
    "version": 3
   },
   "file_extension": ".py",
   "mimetype": "text/x-python",
   "name": "python",
   "nbconvert_exporter": "python",
   "pygments_lexer": "ipython3",
   "version": "3.4.2"
  }
 },
 "nbformat": 4,
 "nbformat_minor": 2
}
