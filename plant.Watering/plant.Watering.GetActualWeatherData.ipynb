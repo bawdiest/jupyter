{
 "cells": [
  {
   "cell_type": "markdown",
   "metadata": {},
   "source": [
    "# Download Weather Data from MeteoSuisse"
   ]
  },
  {
   "cell_type": "markdown",
   "metadata": {},
   "source": [
    "## Download Data from MeteoSwiss"
   ]
  },
  {
   "cell_type": "code",
   "execution_count": 40,
   "metadata": {
    "collapsed": false,
    "scrolled": true
   },
   "outputs": [
    {
     "data": {
      "text/html": [
       "<div>\n",
       "<table border=\"1\" class=\"dataframe\">\n",
       "  <thead>\n",
       "    <tr style=\"text-align: right;\">\n",
       "      <th></th>\n",
       "      <th>stn</th>\n",
       "      <th>time</th>\n",
       "      <th>tre200s0</th>\n",
       "      <th>sre000z0</th>\n",
       "      <th>rre150z0</th>\n",
       "      <th>dkl010z0</th>\n",
       "      <th>fu3010z0</th>\n",
       "      <th>pp0qnhs0</th>\n",
       "      <th>fu3010z1</th>\n",
       "      <th>ure200s0</th>\n",
       "      <th>prestas0</th>\n",
       "      <th>pp0qffs0</th>\n",
       "    </tr>\n",
       "  </thead>\n",
       "  <tbody>\n",
       "    <tr>\n",
       "      <th>0</th>\n",
       "      <td>TAE</td>\n",
       "      <td>201704032120</td>\n",
       "      <td>10.7</td>\n",
       "      <td>0</td>\n",
       "      <td>0.0</td>\n",
       "      <td>118</td>\n",
       "      <td>1.1</td>\n",
       "      <td>1022.8</td>\n",
       "      <td>4.3</td>\n",
       "      <td>85</td>\n",
       "      <td>959.2</td>\n",
       "      <td>1022.9</td>\n",
       "    </tr>\n",
       "    <tr>\n",
       "      <th>1</th>\n",
       "      <td>COM</td>\n",
       "      <td>201704032120</td>\n",
       "      <td>12.8</td>\n",
       "      <td>0</td>\n",
       "      <td>0.0</td>\n",
       "      <td>272</td>\n",
       "      <td>5.0</td>\n",
       "      <td>1019.5</td>\n",
       "      <td>10.1</td>\n",
       "      <td>51</td>\n",
       "      <td>951.8</td>\n",
       "      <td>1018.9</td>\n",
       "    </tr>\n",
       "    <tr>\n",
       "      <th>2</th>\n",
       "      <td>ABO</td>\n",
       "      <td>201704032120</td>\n",
       "      <td>5.9</td>\n",
       "      <td>0</td>\n",
       "      <td>0.0</td>\n",
       "      <td>277</td>\n",
       "      <td>4.7</td>\n",
       "      <td>1023.7</td>\n",
       "      <td>9.0</td>\n",
       "      <td>87</td>\n",
       "      <td>872.7</td>\n",
       "      <td>-</td>\n",
       "    </tr>\n",
       "    <tr>\n",
       "      <th>3</th>\n",
       "      <td>AIG</td>\n",
       "      <td>201704032120</td>\n",
       "      <td>13.1</td>\n",
       "      <td>0</td>\n",
       "      <td>0.0</td>\n",
       "      <td>190</td>\n",
       "      <td>2.5</td>\n",
       "      <td>1021.7</td>\n",
       "      <td>4.3</td>\n",
       "      <td>63</td>\n",
       "      <td>976.3</td>\n",
       "      <td>1021.5</td>\n",
       "    </tr>\n",
       "    <tr>\n",
       "      <th>4</th>\n",
       "      <td>ALT</td>\n",
       "      <td>201704032120</td>\n",
       "      <td>11.2</td>\n",
       "      <td>0</td>\n",
       "      <td>0.0</td>\n",
       "      <td>156</td>\n",
       "      <td>4.3</td>\n",
       "      <td>1022.9</td>\n",
       "      <td>8.3</td>\n",
       "      <td>89</td>\n",
       "      <td>970.8</td>\n",
       "      <td>1023.0</td>\n",
       "    </tr>\n",
       "  </tbody>\n",
       "</table>\n",
       "</div>"
      ],
      "text/plain": [
       "   stn          time tre200s0 sre000z0 rre150z0 dkl010z0 fu3010z0 pp0qnhs0  \\\n",
       "0  TAE  201704032120     10.7        0      0.0      118      1.1   1022.8   \n",
       "1  COM  201704032120     12.8        0      0.0      272      5.0   1019.5   \n",
       "2  ABO  201704032120      5.9        0      0.0      277      4.7   1023.7   \n",
       "3  AIG  201704032120     13.1        0      0.0      190      2.5   1021.7   \n",
       "4  ALT  201704032120     11.2        0      0.0      156      4.3   1022.9   \n",
       "\n",
       "  fu3010z1 ure200s0 prestas0 pp0qffs0  \n",
       "0      4.3       85    959.2   1022.9  \n",
       "1     10.1       51    951.8   1018.9  \n",
       "2      9.0       87    872.7        -  \n",
       "3      4.3       63    976.3   1021.5  \n",
       "4      8.3       89    970.8   1023.0  "
      ]
     },
     "execution_count": 40,
     "metadata": {},
     "output_type": "execute_result"
    }
   ],
   "source": [
    "import pandas as pd\n",
    "\n",
    "data = pd.read_csv('http://data.geo.admin.ch/ch.meteoschweiz.swissmetnet/VQHA69.csv',\n",
    "                   sep = '|',\n",
    "                   header = 1)\n",
    "\n",
    "data.head()"
   ]
  },
  {
   "cell_type": "markdown",
   "metadata": {},
   "source": [
    "## Select Data only for Wädenswil (near Thalwil)"
   ]
  },
  {
   "cell_type": "code",
   "execution_count": 41,
   "metadata": {
    "collapsed": false
   },
   "outputs": [],
   "source": [
    "data = data.loc[data.stn == 'WAE',:]"
   ]
  },
  {
   "cell_type": "markdown",
   "metadata": {},
   "source": [
    "## Post Data to DataBase"
   ]
  },
  {
   "cell_type": "code",
   "execution_count": 42,
   "metadata": {
    "collapsed": false
   },
   "outputs": [
    {
     "data": {
      "text/plain": [
       "()"
      ]
     },
     "execution_count": 42,
     "metadata": {},
     "output_type": "execute_result"
    }
   ],
   "source": [
    "import pymysql.cursors\n",
    "\n",
    "connection = pymysql.connect(host = \"mikmak.cc\", user=\"sensor\", passwd=\"Gaffe2017\", db=\"weatherDW\")\n",
    "#sql = ('SELECT MsgID, msgv1, TmStp FROM sysLog WHERE msgID = \"109\" AND sysID = \"79cf6c22-dcc6-11e5-8e77-00113217113f\"')\n",
    "\n",
    "query = (\"CALL `writeWeatherLog`(\"+ \"'\" + \"79cf6c22-dcc6-11e5-8e77-00113217113f\" + \"'\"  + \",\"+ \"'\" \n",
    "         + str(data.tre200s0.values[0]) + \"'\" + \",\"+ \"'\" \n",
    "         + str(data.fu3010z0.values[0]) + \"'\" + \",\"+ \"'\"  \n",
    "         + str(data.rre150z0.values[0]) + \"'\"+ \",\"+ \"'\" \n",
    "         + str(data.prestas0.values[0]) + \"'\" + \",\"+ \"'\" \n",
    "         + str(data.ure200s0.values[0]) + \"'\" + \",\"+ \"'\" \n",
    "         + str(data.stn.values[0]) + \"'\" +\",'\" \n",
    "         + str(data.stn.values[0]) + \"'\" +\",'\" \n",
    "         + str(data.sre000z0.values[0]) +  \"'\" + \")\")\n",
    "\n",
    "with connection.cursor() as cursor:\n",
    "    cursor.execute(query)\n",
    "connection.commit()\n",
    "e_Log = cursor.fetchall()\n",
    "connection.close()\n",
    "e_Log\n",
    "\n",
    "print(\"OK\")"
   ]
  },
  {
   "cell_type": "markdown",
   "metadata": {},
   "source": [
    "Stored Procedure executed on DataBase:\n",
    "\n",
    "\n",
    "``` sql\n",
    "BEGIN\n",
    "\n",
    "DECLARE logID varchar(36);\n",
    "SELECT UUID() INTO logID;\n",
    "INSERT INTO log\n",
    "\t(\n",
    "     sysID\t,\n",
    "     logID\t,\n",
    "     msgID\t,\n",
    "     msgv1\n",
    "    )\n",
    "VALUES \n",
    "\t(\n",
    "     sysID\t\t,\n",
    "     logID\t\t,\n",
    "     '801'\t,\n",
    "     temperature\n",
    "    ) ;  \n",
    "INSERT INTO log\t(sysID\t, logID\t,     msgID\t,     msgv1    )\n",
    "VALUES \t(\n",
    "     sysID\t\t,     logID\t\t,     '802'\t,     pressure\n",
    "    ) ;\n",
    "INSERT INTO log\t(sysID\t, logID\t,     msgID\t,     msgv1    )\n",
    "VALUES \t(\n",
    "     sysID\t\t,     logID\t\t,     '820'\t,     humidity\n",
    "    ) ;\n",
    "INSERT INTO log\t(sysID\t, logID\t,     msgID\t,     msgv1    )\n",
    "VALUES \t(\n",
    "     sysID\t\t,     logID\t\t,     '841'\t,     wind\n",
    "    ) ;\n",
    "INSERT INTO log\t(sysID\t, logID\t,     msgID\t,     msgv1    )\n",
    "VALUES \t(\n",
    "     sysID\t\t,     logID\t\t,     '851'\t,     rain\n",
    "    ) ;\n",
    "INSERT INTO log\t(sysID\t, logID\t,     msgID\t,     msgv1    )\n",
    "VALUES \t(\n",
    "     sysID\t\t,     logID\t\t,     '101'\t,     lon\n",
    "    ) ;\n",
    "INSERT INTO log\t(sysID\t, logID\t,     msgID\t,     msgv1    )\n",
    "VALUES \t(\n",
    "     sysID\t\t,     logID\t\t,     '102'\t,     lat\n",
    "    ) ;\n",
    "INSERT INTO log\t(sysID\t, logID\t,     msgID\t,     msgv1    )\n",
    "VALUES \t(\n",
    "     sysID\t\t,     logID\t\t,     '852'\t,     sunshine\n",
    "    ) ;\n",
    "END\n",
    "```"
   ]
  },
  {
   "cell_type": "code",
   "execution_count": null,
   "metadata": {
    "collapsed": true
   },
   "outputs": [],
   "source": []
  }
 ],
 "metadata": {
  "kernelspec": {
   "display_name": "Python 3",
   "language": "python",
   "name": "python3"
  },
  "language_info": {
   "codemirror_mode": {
    "name": "ipython",
    "version": 3
   },
   "file_extension": ".py",
   "mimetype": "text/x-python",
   "name": "python",
   "nbconvert_exporter": "python",
   "pygments_lexer": "ipython3",
   "version": "3.4.2"
  }
 },
 "nbformat": 4,
 "nbformat_minor": 2
}
