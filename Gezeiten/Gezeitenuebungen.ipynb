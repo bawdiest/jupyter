{
 "cells": [
  {
   "cell_type": "markdown",
   "metadata": {
    "deletable": true,
    "editable": true
   },
   "source": [
    "# Gezeiten"
   ]
  },
  {
   "cell_type": "code",
   "execution_count": null,
   "metadata": {
    "collapsed": true
   },
   "outputs": [],
   "source": [
    "from IPython.display import Markdown"
   ]
  },
  {
   "cell_type": "markdown",
   "metadata": {
    "deletable": true,
    "editable": true
   },
   "source": [
    "## Übung 1\n",
    "Mittwoch, 20. April 2011, 19:00 (UT + 1). Bei ruhigem Wasser, bei der Einfahrt von St. Helier, zeigt das Echolot 10.1m an. Der Geber liegt 0.5m unter der Wasserlinie. Wieviel beträgt die Kartentiefe?"
   ]
  },
  {
   "cell_type": "markdown",
   "metadata": {
    "deletable": true,
    "editable": true
   },
   "source": [
    "## Übung 2\n",
    "Samstag 11. Juni 2011, am frühen Nachmittag (UT + 2). Wir befinden uns vor der Einfahrt von Carteret und wollen eine trockenfallende Stelle von 4.5 passieren. Der Tiefgang unseres Schiffes beträgt 1.8m, die Sicherheitsmarge 0.5m. Ab welcher Zeit können wir die Untiefe passieren?"
   ]
  },
  {
   "cell_type": "markdown",
   "metadata": {
    "deletable": true,
    "editable": true
   },
   "source": [
    "## Übung 3\n",
    "Freitag 10. April 2011, 1430 (UT + 2). Wir befinden uns in der Umgebung des kleinen Hafens von Portbail (49°18'N / 001°45'W) und überqueren die 3m Tiefenlinie der Seekarte. Der Geber uneseres Echolotes ist 0.5m unter der Wasserlinie montiert. Welche Tiefe zeigt das Echolot an?"
   ]
  },
  {
   "cell_type": "markdown",
   "metadata": {
    "deletable": true,
    "editable": true
   },
   "source": [
    "### Lösungsweg\n",
    "Zeit in UT: 10. April 2011 1230 (UT + 2 1430 - 2)"
   ]
  },
  {
   "cell_type": "markdown",
   "metadata": {
    "deletable": true,
    "editable": true
   },
   "source": [
    "Es gelten die Differenztabelle von Carteret und Angaben für St Malo\n",
    "Wenn Hochwasser um 0800 ist, beträgt die Zeitdifferenz +20 Min. Wenn Hochwasser um 1300 ist, beträgt die Differenz +30 Minuten."
   ]
  },
  {
   "cell_type": "markdown",
   "metadata": {},
   "source": [
    "#### Zeitdifferenz zum Haupthafen"
   ]
  },
  {
   "cell_type": "markdown",
   "metadata": {
    "deletable": true,
    "editable": true
   },
   "source": [
    "In St. Malo ist UT + 1\n",
    "Am 10. April 2011 ist in St. Malo das Hochwasser um 0937 und Niedrigwasser um 1627"
   ]
  },
  {
   "cell_type": "code",
   "execution_count": 26,
   "metadata": {
    "collapsed": false,
    "deletable": true,
    "editable": true
   },
   "outputs": [
    {
     "data": {
      "text/markdown": [
       "In 5 Stunden, oder in 300 Minuten beträgt die Differenz 5 Minuten zum Haupthafen"
      ],
      "text/plain": [
       "<IPython.core.display.Markdown object>"
      ]
     },
     "execution_count": 26,
     "metadata": {},
     "output_type": "execute_result"
    }
   ],
   "source": [
    "Markdown(\"In \" + str(13 - 8) \n",
    "         + \" Stunden, oder in \" \n",
    "         + str((13-8) * 60) \n",
    "         + \" Minuten beträgt die Differenz 5 Minuten zum Haupthafen\")"
   ]
  },
  {
   "cell_type": "code",
   "execution_count": 34,
   "metadata": {
    "collapsed": false
   },
   "outputs": [
    {
     "data": {
      "text/markdown": [
       "In St. Malo ist das Hochwasser 91 Minuten später als 0800"
      ],
      "text/plain": [
       "<IPython.core.display.Markdown object>"
      ]
     },
     "execution_count": 34,
     "metadata": {},
     "output_type": "execute_result"
    }
   ],
   "source": [
    "Markdown(\"In St. Malo ist das Hochwasser \" + str(1*60 + 31) + \" Minuten später als 0800\")"
   ]
  },
  {
   "cell_type": "code",
   "execution_count": 35,
   "metadata": {
    "collapsed": false
   },
   "outputs": [
    {
     "data": {
      "text/markdown": [
       "Die Differenz zur Differenz von 30 Minuten beträgt um 1031 28.483333333333334. Das Hochwasser in Portbail ist um 965.4833333333333"
      ],
      "text/plain": [
       "<IPython.core.display.Markdown object>"
      ]
     },
     "execution_count": 35,
     "metadata": {},
     "output_type": "execute_result"
    }
   ],
   "source": [
    "Markdown(\"Die Differenz zur Differenz von 30 Minuten beträgt um 1031 \" \n",
    "         + str(30 - (91 * 5 / 300) )\n",
    "         + \". Das Hochwasser in Portbail ist um \" \n",
    "         + str(937 + 30-(91 * 5 / 300)))"
   ]
  },
  {
   "cell_type": "markdown",
   "metadata": {},
   "source": [
    "Gesucht ist der Wert 2.5 Stunden nach Hochwasser (um 1330 UT)"
   ]
  },
  {
   "cell_type": "markdown",
   "metadata": {},
   "source": [
    "#### Tidenunterschied zum Haupthafen"
   ]
  },
  {
   "cell_type": "markdown",
   "metadata": {},
   "source": [
    "Es ist Nippzeit.\n",
    "Bei Hochwasser in St. Malo von 9.8 gilt die Differenz in Portbail -0.8.\n",
    "Am 11. April ist das Hochwasser in Portbail um 1100:"
   ]
  },
  {
   "cell_type": "code",
   "execution_count": 36,
   "metadata": {
    "collapsed": false
   },
   "outputs": [
    {
     "data": {
      "text/plain": [
       "8.956989247311828"
      ]
     },
     "execution_count": 36,
     "metadata": {},
     "output_type": "execute_result"
    }
   ],
   "source": [
    "9.8 + (9.8 * (-0.8) / 9.3)"
   ]
  },
  {
   "cell_type": "markdown",
   "metadata": {},
   "source": [
    "Bei Tiefwasser in St. Malo von 3.9 gilt die Differenz in Portbail -0.2.\n",
    "Am 11. April ist das Tiefwasser in Portbail:"
   ]
  },
  {
   "cell_type": "code",
   "execution_count": 37,
   "metadata": {
    "collapsed": false
   },
   "outputs": [
    {
     "data": {
      "text/plain": [
       "3.7142857142857144"
      ]
     },
     "execution_count": 37,
     "metadata": {},
     "output_type": "execute_result"
    }
   ],
   "source": [
    "3.9 + (3.9 * -0.2 / 4.2)"
   ]
  },
  {
   "cell_type": "markdown",
   "metadata": {},
   "source": [
    "**Weil es Nippzeit ist, muss keine Tideninterpollation gemacht werden**\n",
    "\n",
    "Bei Hochwasser ist der Unterschied -0.6 und bei Niedrigwasser ist der Unterschied -0.2\n",
    "\n",
    "D.h. Hochwasser in Portbail ist 9.2 und Niedrigwasser ist 3.7"
   ]
  },
  {
   "cell_type": "markdown",
   "metadata": {},
   "source": [
    "Gemäss Tidentabelle für St. Malo, ist die Gezeit in Portbail 2.5 Stunden später nach Hochwasser: 7.6 m"
   ]
  },
  {
   "cell_type": "code",
   "execution_count": 40,
   "metadata": {
    "collapsed": false
   },
   "outputs": [
    {
     "data": {
      "text/markdown": [
       "Echolot zeigt 10.1 Meter an"
      ],
      "text/plain": [
       "<IPython.core.display.Markdown object>"
      ]
     },
     "execution_count": 40,
     "metadata": {},
     "output_type": "execute_result"
    }
   ],
   "source": [
    "Markdown(\"Echolot zeigt \" + str(7.6 + 3 - 0.5) + \" Meter an\")"
   ]
  },
  {
   "cell_type": "markdown",
   "metadata": {
    "deletable": true,
    "editable": true
   },
   "source": [
    "## Übung 4\n",
    "Sonntag, 31. Juli 2011, 1800 (UT+1). Wir wollen bei der Maseline Pier (Sark) ankern und hier die nächste Nacht verbringen. Der Tiefgang unseres Schiffes beträgt 1.7 m, die Sicherheitsmarge soll 1.0 m betragen. Welchen Wert muss die Wassertiefe zum Zeitpunkt des Ankerns (um 1800) betragen, damit wir bei Niedrigwasser noch sicher aufschwimmen?"
   ]
  },
  {
   "cell_type": "markdown",
   "metadata": {},
   "source": [
    "### Lösungsweg\n",
    "Gesucht ist die Wassertiefe um 1700, die bei Niedrigwasser mindestens 2.7m beträgt"
   ]
  },
  {
   "cell_type": "markdown",
   "metadata": {},
   "source": [
    "Haupthafen ist St. Helier\n",
    "\n",
    "Hochwasser ist um 1855 mit 11.1m\n",
    "Niedrigwasser ist um 0146 mit 1.1m"
   ]
  },
  {
   "cell_type": "code",
   "execution_count": 60,
   "metadata": {
    "collapsed": false
   },
   "outputs": [
    {
     "data": {
      "text/markdown": [
       "Es ist Spring Time, d.h. Hochwasser ist 9.0 und Niedrigwasser ist 1.2"
      ],
      "text/plain": [
       "<IPython.core.display.Markdown object>"
      ]
     },
     "execution_count": 60,
     "metadata": {},
     "output_type": "execute_result"
    }
   ],
   "source": [
    "LowTide = 1.5-0.3\n",
    "HighTide = 11.1 - 2.1\n",
    "\n",
    "Markdown(\"Es ist Spring Time, d.h. Hochwasser ist \" + str(HighTide) \n",
    "         + \" und Niedrigwasser ist \" + str(LowTide))"
   ]
  },
  {
   "cell_type": "code",
   "execution_count": 51,
   "metadata": {
    "collapsed": false,
    "scrolled": true
   },
   "outputs": [
    {
     "data": {
      "text/markdown": [
       "Zwischen 1500 und 2100 nimmt die Differenz um 1.6666666666666667 Minuten pro Stunde zu"
      ],
      "text/plain": [
       "<IPython.core.display.Markdown object>"
      ]
     },
     "execution_count": 51,
     "metadata": {},
     "output_type": "execute_result"
    }
   ],
   "source": [
    "ex4_TimeDiff_HW = (10 / (21-15))\n",
    "\n",
    "Markdown(\"Zwischen 1500 und 2100 nimmt die Differenz um \" \n",
    "         + str(ex4_TimeDiff_HW) \n",
    "         + \" Minuten pro Stunde zu\")"
   ]
  },
  {
   "cell_type": "code",
   "execution_count": 58,
   "metadata": {
    "collapsed": false
   },
   "outputs": [
    {
     "data": {
      "text/markdown": [
       "Wenn das Hochwasser in St. Helier um 1855 ist, beträgt die Differenz in Sark: 9.305555555555557 Minuten"
      ],
      "text/plain": [
       "<IPython.core.display.Markdown object>"
      ]
     },
     "execution_count": 58,
     "metadata": {},
     "output_type": "execute_result"
    }
   ],
   "source": [
    "ex4temp = 5 + (((1855 - 1700)) * (ex4_TimeDiff_HW/60))\n",
    "Markdown(\"Wenn das Hochwasser in St. Helier um 1855 ist, beträgt die Differenz in Sark: \"\n",
    "         + str(ex4temp)\n",
    "        + \" Minuten\")"
   ]
  },
  {
   "cell_type": "markdown",
   "metadata": {},
   "source": [
    "Gesucht ist die Gezeithöhe 2 Stunden vor Hochwasser in St. Helier"
   ]
  },
  {
   "cell_type": "code",
   "execution_count": 61,
   "metadata": {
    "collapsed": false
   },
   "outputs": [
    {
     "data": {
      "text/markdown": [
       "Gemäss Tidentabelle für St. Helier, liegt die Gezeithöhe in Sark bei 6.8"
      ],
      "text/plain": [
       "<IPython.core.display.Markdown object>"
      ]
     },
     "execution_count": 61,
     "metadata": {},
     "output_type": "execute_result"
    }
   ],
   "source": [
    "ex4_GezeitHoehe = 6.8\n",
    "\n",
    "Markdown(\"Gemäss Tidentabelle für St. Helier, liegt die Gezeithöhe in Sark bei \" + str(ex4_GezeitHoehe))"
   ]
  },
  {
   "cell_type": "code",
   "execution_count": 64,
   "metadata": {
    "collapsed": true
   },
   "outputs": [],
   "source": [
    "ex4_r = 6.8 + 1.7 + 1"
   ]
  },
  {
   "cell_type": "code",
   "execution_count": 67,
   "metadata": {
    "collapsed": false
   },
   "outputs": [
    {
     "data": {
      "text/markdown": [
       "**Die Wassertiefe sollte mindestens 9.5 betragen**"
      ],
      "text/plain": [
       "<IPython.core.display.Markdown object>"
      ]
     },
     "execution_count": 67,
     "metadata": {},
     "output_type": "execute_result"
    }
   ],
   "source": [
    "Markdown(\"**Die Wassertiefe sollte mindestens \" + str(ex4_r) + \" betragen**\")"
   ]
  },
  {
   "cell_type": "markdown",
   "metadata": {},
   "source": [
    "Die Kartentiefe nicht vergessen, diese muss dazu additiert werden. In diesem Fall beträgt die Kartentiefe 1.9 m\n",
    "\n",
    "Die Kartentiefe ist die Differenz zwischen minimaler Wassertiefe und der Höhe der Gezeit bei Niedrigwasser in der Nacht."
   ]
  },
  {
   "cell_type": "code",
   "execution_count": null,
   "metadata": {
    "collapsed": true
   },
   "outputs": [],
   "source": []
  }
 ],
 "metadata": {
  "kernelspec": {
   "display_name": "Python 3",
   "language": "python",
   "name": "python3"
  },
  "language_info": {
   "codemirror_mode": {
    "name": "ipython",
    "version": 3
   },
   "file_extension": ".py",
   "mimetype": "text/x-python",
   "name": "python",
   "nbconvert_exporter": "python",
   "pygments_lexer": "ipython3",
   "version": "3.4.2"
  }
 },
 "nbformat": 4,
 "nbformat_minor": 2
}
