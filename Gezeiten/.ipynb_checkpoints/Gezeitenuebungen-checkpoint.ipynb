{
 "cells": [
  {
   "cell_type": "markdown",
   "metadata": {},
   "source": [
    "# Gezeiten"
   ]
  },
  {
   "cell_type": "markdown",
   "metadata": {},
   "source": [
    "## Übung 1\n",
    "Mittwoch, 20. April 2011, 19:00 (UT + 1). Bei ruhigem Wasser, bei der Einfahrt von St. Helier, zeigt das Echolot 10.1m an. Der Geber liegt 0.5m unter der Wasserlinie. Wieviel beträgt die Kartentiefe?"
   ]
  },
  {
   "cell_type": "markdown",
   "metadata": {},
   "source": [
    "## Übung 2\n",
    "Samstag 11. Juni 2011, am frühen Nachmittag (UT + 2). Wir befinden uns vor der Einfahrt von Carteret und wollen eine trockenfallende Stelle von 4.5 passieren. Der Tiefgang unseres Schiffes beträgt 1.8m, die Sicherheitsmarge 0.5m. Ab welcher Zeit können wir die Untiefe passieren?"
   ]
  },
  {
   "cell_type": "markdown",
   "metadata": {},
   "source": [
    "## Übung 3\n",
    "Freitag 10. April 2011, 1430 (UT + 2). Wir befinden uns in der Umgebung des kleinen Hafens von Portbail (49°18'N / 001°45'W) und überqueren"
   ]
  },
  {
   "cell_type": "markdown",
   "metadata": {},
   "source": [
    "## Übung 4"
   ]
  }
 ],
 "metadata": {
  "kernelspec": {
   "display_name": "Python 3",
   "language": "python",
   "name": "python3"
  },
  "language_info": {
   "codemirror_mode": {
    "name": "ipython",
    "version": 3
   },
   "file_extension": ".py",
   "mimetype": "text/x-python",
   "name": "python",
   "nbconvert_exporter": "python",
   "pygments_lexer": "ipython3",
   "version": "3.4.2"
  }
 },
 "nbformat": 4,
 "nbformat_minor": 2
}
